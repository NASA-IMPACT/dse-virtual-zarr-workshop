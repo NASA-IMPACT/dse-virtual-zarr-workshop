{
 "cells": [
  {
   "cell_type": "markdown",
   "id": "8ad557e4-5fbf-41d3-8a10-98da53634057",
   "metadata": {},
   "source": [
    "## Creating a STAC Collection for a Virtual Icechunk Store\n",
    "\n",
    "There is a virtual icechunk store that is publicly available at: s3://nasa-waterinsight/virtual-zarr-store/NLDAS-3-icechunk/\n",
    "\n",
    "This notebook goes through the current thinking for how you would set up a STAC collection that points to that virtual icechunk store and provides all the information a user needs to interact with the virtual zarr store programatically or via a web UI. "
   ]
  },
  {
   "cell_type": "code",
   "execution_count": null,
   "id": "6eb787d3-2e2c-4f72-9aed-12022fa6f5c9",
   "metadata": {},
   "outputs": [],
   "source": [
    "import icechunk\n",
    "import zarr\n",
    "import xstac\n",
    "\n",
    "import xarray as xr"
   ]
  },
  {
   "cell_type": "markdown",
   "id": "c68fe3f7",
   "metadata": {},
   "source": [
    "Zarr can emit a lot of warnings about Numcodecs not being including in the Zarr version 3 specification yet -- let's suppress those."
   ]
  },
  {
   "cell_type": "code",
   "execution_count": null,
   "id": "ac29867a-c95e-4956-b370-dceb0dd1bd94",
   "metadata": {},
   "outputs": [],
   "source": [
    "import warnings\n",
    "\n",
    "warnings.filterwarnings(\n",
    "    \"ignore\",\n",
    "    message=\"Numcodecs codecs are not in the Zarr version 3 specification*\",\n",
    "    category=UserWarning,\n",
    ")"
   ]
  },
  {
   "cell_type": "markdown",
   "id": "647e3459-3e2f-4749-bc06-82f6e7fc1581",
   "metadata": {},
   "source": [
    "These are the PRs that need to land before you can open the virtual icechunk store with zarr directly:\n",
    "\n",
    "- https://github.com/zarr-developers/zarr-python/pull/3369\n",
    "- https://github.com/earth-mover/icechunk/pull/1161\n",
    "\n",
    "Until then:"
   ]
  },
  {
   "cell_type": "code",
   "execution_count": null,
   "id": "da9704f0-40ac-4b85-9706-6cc60ebffcb5",
   "metadata": {},
   "outputs": [],
   "source": [
    "storage = icechunk.s3_storage(\n",
    "    bucket=\"nasa-waterinsight\",\n",
    "    prefix=\"virtual-zarr-store/NLDAS-3-icechunk/\",\n",
    "    region=\"us-west-2\",\n",
    "    anonymous=True,\n",
    ")"
   ]
  },
  {
   "cell_type": "markdown",
   "id": "798eb3c1-8a4e-444f-92c5-a4e0e1257f24",
   "metadata": {},
   "source": [
    "The `bucket` and `prefix` are from the icechunk href. The `anonymous=True` needs to come from somewhere else."
   ]
  },
  {
   "cell_type": "code",
   "execution_count": null,
   "id": "bba627a9-a2be-4cfd-94b7-02848c15841f",
   "metadata": {},
   "outputs": [],
   "source": [
    "config = icechunk.RepositoryConfig.default()\n",
    "config.set_virtual_chunk_container(\n",
    "    icechunk.VirtualChunkContainer(\n",
    "        \"s3://nasa-waterinsight/NLDAS3/forcing/daily/\",\n",
    "        icechunk.s3_store(region=\"us-west-2\")\n",
    "    )\n",
    ")\n",
    "virtual_credentials = icechunk.containers_credentials(\n",
    "    {\n",
    "        \"s3://nasa-waterinsight/NLDAS3/forcing/daily/\": icechunk.s3_anonymous_credentials()\n",
    "    }\n",
    ")"
   ]
  },
  {
   "cell_type": "markdown",
   "id": "eb811ca5-a483-495e-9dc8-1c5b67fadc7f",
   "metadata": {},
   "source": [
    "Here we need the `href` for the internal storage bucket(s) (composed of `bucket` and `prefix`) and we need the `region` of that bucket. Then we need some way of providing credentials."
   ]
  },
  {
   "cell_type": "code",
   "execution_count": null,
   "id": "cda06847-3d50-4acc-b19a-e10b5c60851a",
   "metadata": {},
   "outputs": [],
   "source": [
    "repo = icechunk.Repository.open(\n",
    "    storage=storage,\n",
    "    config=config,\n",
    "    authorize_virtual_chunk_access=virtual_credentials,\n",
    ")\n",
    "\n",
    "session = repo.readonly_session('main')\n",
    "ds = xr.open_zarr(session.store, consolidated=False, zarr_format=3)"
   ]
  },
  {
   "cell_type": "markdown",
   "id": "8d7279e4-d0dc-4943-a1c0-e0e1b051517a",
   "metadata": {},
   "source": [
    "Last of all we need a way of specifying that we are looking at icechunk here as well as the standard fields: `consolodated`, `zarr_format` that are already included in the [STAC Zarr extension](https://github.com/stac-extensions/zarr)."
   ]
  },
  {
   "cell_type": "code",
   "execution_count": null,
   "id": "ecdeb03b-9f11-4288-ba89-6a6f746d8ba8",
   "metadata": {},
   "outputs": [],
   "source": [
    "ds"
   ]
  },
  {
   "cell_type": "markdown",
   "id": "6841dee1-9c22-4888-9d15-bd827385fd1a",
   "metadata": {},
   "source": [
    "Ok! We have the xarray dataset lazily opened by accessing only the virtual icechunk store! Now the goal is to create a STAC collection that describes that virtual icechunk store and contains all the information we need for accessing it (all the inputs to the functions above).\n",
    "\n",
    "## Extract metadata for STAC collection\n",
    "\n",
    "Now let's see how [xstac](https://github.com/stac-utils/xstac) can help us extract the variables and represent them using the [Datacube STAC Extension](https://github.com/stac-extensions/datacube/). \n",
    "\n",
    "<div class=\"alert alert-info\">\n",
    "    \n",
    "This section takes inspiration from https://github.com/stac-utils/xstac/blob/main/examples/nasa-nex-gddp-cmip6/generate.py\n",
    "\n",
    "</div>"
   ]
  },
  {
   "cell_type": "code",
   "execution_count": null,
   "id": "34958152-456b-4586-a2bc-c01f8d1aa3f8",
   "metadata": {},
   "outputs": [],
   "source": [
    "import json\n",
    "import datetime\n",
    "\n",
    "import pystac\n",
    "import xstac"
   ]
  },
  {
   "cell_type": "markdown",
   "id": "bfdff137-e99d-4d4f-8d36-4aceb398404b",
   "metadata": {},
   "source": [
    "We'll start with some of the hard-coded values that will need to be provided for any given dataset. As much as possible these should be lifted directly from the `xr.Dataset` attrs."
   ]
  },
  {
   "cell_type": "code",
   "execution_count": null,
   "id": "cb7c3205-1ffa-4062-b083-1348877466cc",
   "metadata": {},
   "outputs": [],
   "source": [
    "collection_id = \"nldas-3\"\n",
    "description = (\n",
    "    \"NLDAS-3 provides a fine-scale (1 km) meteorological forcing (precipitation) in \"\n",
    "    \"both retrospective and near real-time over North and Central America, including \"\n",
    "    \"Alaska, Hawaii, and Puerto Rico, by leveraging high-quality gauge, satellite, \"\n",
    "    \"and model datasets through advanced data assimilation methods. Read more: \"\n",
    "    \"https://ldas.gsfc.nasa.gov/nldas/v3\"\n",
    ")\n",
    "providers = [\n",
    "    pystac.Provider(\n",
    "        name=\"NLDAS\",\n",
    "        roles=[\"producer\", \"processor\", \"licensor\"],\n",
    "        url=\"https://ldas.gsfc.nasa.gov/nldas\"\n",
    "    )\n",
    "]"
   ]
  },
  {
   "cell_type": "markdown",
   "id": "8e44e1c7-9cdc-4ff0-a308-d28bd8fa7a4f",
   "metadata": {},
   "source": [
    "I want to draw special attention to how we can use the [Storage STAC Extension](https://github.com/stac-extensions/storage) to capture that this particular bucket can be accessed anonymously. We can also capture the `region` within this blob."
   ]
  },
  {
   "cell_type": "code",
   "execution_count": null,
   "id": "0c8e2e68-1f32-491a-8e73-af87ae8b3d31",
   "metadata": {},
   "outputs": [],
   "source": [
    "storage_schemes = {\n",
    "    \"aws-s3-nasa-waterinsight\": {\n",
    "        \"type\": \"aws-s3\",\n",
    "        \"platform\": \"https://{bucket}.s3.{region}.amazonaws.com\",\n",
    "        \"bucket\": \"nasa-waterinsight\",\n",
    "        \"region\": \"us-west-2\",\n",
    "        \"anonymous\": True,\n",
    "    }\n",
    "}"
   ]
  },
  {
   "cell_type": "markdown",
   "id": "c55df85c-5021-4512-9cb0-2314c6c9422b",
   "metadata": {},
   "source": [
    "Now let's configure some metadata that can be gotten from the `xr.Dataset` itself."
   ]
  },
  {
   "cell_type": "code",
   "execution_count": null,
   "id": "dac18a22-044b-4961-b118-1d1c654038b3",
   "metadata": {},
   "outputs": [],
   "source": [
    "title = ds.attrs[\"title\"]\n",
    "extents = pystac.Extent(\n",
    "    spatial=pystac.SpatialExtent(bboxes=[list(ds.rio.bounds())]),\n",
    "    temporal=pystac.TemporalExtent(\n",
    "        intervals=[\n",
    "            datetime.datetime.fromisoformat(str(ds.time.min().values)),\n",
    "            datetime.datetime.fromisoformat(str(ds.time.max().values))\n",
    "        ]\n",
    "    ),\n",
    ")"
   ]
  },
  {
   "cell_type": "markdown",
   "id": "2de6fc38-a5ea-4310-9d5d-91a4fc907ad8",
   "metadata": {},
   "source": [
    "Now that we have all those values set, create a `pystac.Collection`:"
   ]
  },
  {
   "cell_type": "code",
   "execution_count": null,
   "id": "b35fce44-fb43-463e-8b91-b1ff04c45775",
   "metadata": {},
   "outputs": [],
   "source": [
    "template = pystac.Collection(\n",
    "    collection_id,\n",
    "    description=description,\n",
    "    extent=extents,\n",
    "    extra_fields={\"storage:schemes\": storage_schemes},\n",
    "    providers=providers,\n",
    "    title=title,\n",
    "    stac_extensions = [\n",
    "        \"https://stac-extensions.github.io/storage/v2.0.0/schema.json\",\n",
    "    ]\n",
    ")"
   ]
  },
  {
   "cell_type": "markdown",
   "id": "19306ff8-c2d2-4ba2-ae34-88577b86faf2",
   "metadata": {},
   "source": [
    "Now that we have a preliminary version of the STAC Collection we can pass it off to `xstac` to pull out the variables and dims using the [Datacube STAC Extension](https://github.com/stac-extensions/datacube/)."
   ]
  },
  {
   "cell_type": "code",
   "execution_count": null,
   "id": "e1d8e728-e34d-46f7-92a7-1c98bc52ca45",
   "metadata": {},
   "outputs": [],
   "source": [
    "collection = xstac.xarray_to_stac(\n",
    "    ds,\n",
    "    template,\n",
    "    temporal_dimension=\"time\",\n",
    "    x_dimension=\"lon\",\n",
    "    y_dimension=\"lat\",\n",
    "    reference_system=4326\n",
    ")"
   ]
  },
  {
   "cell_type": "markdown",
   "id": "f1092100-914f-4d34-ae2a-2f69af27cdd4",
   "metadata": {},
   "source": [
    "With that collection in hand we can create an asset that points to the virtual icechunk store and add it as a collection-level asset.\n",
    "\n",
    "The main concern of the asset is how to access the data. So we need the asset to contain all the information we need to pass into icechunk functions when opening the virtual icechunk store."
   ]
  },
  {
   "cell_type": "code",
   "execution_count": null,
   "id": "718be1f5-5b50-4e3f-be49-77c407ce3fa3",
   "metadata": {},
   "outputs": [],
   "source": [
    "collection.add_asset(\n",
    "    \"nldas-3\",\n",
    "    pystac.Asset(\n",
    "        \"s3://nasa-waterinsight/virtual-zarr-store/NLDAS-3-icechunk/\",\n",
    "        title=\"NLDAS-3 Virtual Zarr Store\",\n",
    "        media_type=\"application/vnd.zarr+icechunk\",  # I made this up - is there a better one to use?\n",
    "        roles=[\"data\", \"references\"],\n",
    "        extra_fields={\n",
    "            \"zarr:consolidated\": False,\n",
    "            \"zarr:zarr_format\": 3,\n",
    "            \"zarr:virtual_storage_container\": {  \n",
    "                \"href\": \"s3://nasa-waterinsight/NLDAS3/forcing/daily/\",\n",
    "                \"storage:refs\": [\n",
    "                    \"aws-s3-nasa-waterinsight\"\n",
    "                ],\n",
    "            },\n",
    "            \"storage:refs\": [\n",
    "                \"aws-s3-nasa-waterinsight\"\n",
    "            ],\n",
    "        }\n",
    "    )\n",
    ")"
   ]
  },
  {
   "cell_type": "markdown",
   "id": "a683ac57-00e0-4baf-8f42-037342585a06",
   "metadata": {},
   "source": [
    "We can also add information about how to render each variable. This uses the [Render STAC Extension](https://github.com/stac-extensions/render) and specifies how applications (for instance titiler) should represent each variable visually."
   ]
  },
  {
   "cell_type": "code",
   "execution_count": null,
   "id": "ef0c5caa-9244-4f64-89ec-1a8890f1f53b",
   "metadata": {},
   "outputs": [],
   "source": [
    "renders = {}\n",
    "for k in ds:\n",
    "    if k.startswith(\"LW\"):\n",
    "        colormap_name = \"inferno\"\n",
    "    elif k.startswith(\"PS\"):\n",
    "        colormap_name = \"viridis\"\n",
    "    elif k.startswith(\"Q\"):\n",
    "        colormap_name = \"plasma\"\n",
    "    elif k.startswith(\"Rain\"):\n",
    "        colormap_name = \"cfastie\"\n",
    "    elif k.startswith(\"SW\"):\n",
    "        colormap_name = \"magma\"\n",
    "    elif k.startswith(\"T\"):\n",
    "        colormap_name = \"RdYlBu_r\"\n",
    "    elif k.startswith(\"Wind\"):\n",
    "        colormap_name = \"PuOr\"\n",
    "        \n",
    "    renders[k] = {\n",
    "        \"title\": ds[k].attrs[\"long_name\"],\n",
    "        \"assets\": [\"nldas-3\"],\n",
    "        \"resampling\": \"average\",\n",
    "        \"colormap_name\": colormap_name,\n",
    "        \"rescale\": [[ds[k].attrs[\"vmin\"], ds[k].attrs[\"vmax\"]]],\n",
    "        \"backend\": \"xarray\",\n",
    "    }\n",
    "\n",
    "collection.extra_fields[\"renders\"] = renders"
   ]
  },
  {
   "cell_type": "markdown",
   "id": "66f2bb8e-3a9a-4e59-a374-6517ae682ba7",
   "metadata": {},
   "source": [
    "Last of all we will add the Zarr STAC Extension and the Render STAC Extension to the list of `stac_extensions`. We need to do this after adding the asset because they relies on there being assets in the collection. "
   ]
  },
  {
   "cell_type": "code",
   "execution_count": null,
   "id": "fad6a53e-b60a-49b5-884d-28dc4c5198c1",
   "metadata": {},
   "outputs": [],
   "source": [
    "collection.stac_extensions = list(set(\n",
    "    collection.stac_extensions + [\n",
    "        \"https://stac-extensions.github.io/render/v2.0.0/schema.json\",\n",
    "        \"https://stac-extensions.github.io/zarr/v1.0.0/schema.json\"\n",
    "    ]\n",
    "))"
   ]
  },
  {
   "cell_type": "markdown",
   "id": "e1a9fcfd-6168-42b8-a07d-4779414c73d5",
   "metadata": {},
   "source": [
    "Validate the collection:"
   ]
  },
  {
   "cell_type": "code",
   "execution_count": null,
   "id": "62dc2af9-aff7-46f7-8560-d0d8e72540ec",
   "metadata": {},
   "outputs": [],
   "source": [
    "collection.validate()"
   ]
  },
  {
   "cell_type": "markdown",
   "id": "e882e6de-b3c2-45ea-bb55-680f630dbf09",
   "metadata": {},
   "source": [
    "Dump the collection to json"
   ]
  },
  {
   "cell_type": "code",
   "execution_count": null,
   "id": "85820cb0-9d57-49f4-999a-1cfcf6ae020d",
   "metadata": {},
   "outputs": [],
   "source": [
    "with open(\"collection.json\", \"w\") as f:\n",
    "    json.dump(collection.to_dict(), f, indent=2)"
   ]
  }
 ],
 "metadata": {
  "kernelspec": {
   "display_name": "Python 3 (ipykernel)",
   "language": "python",
   "name": "python3"
  },
  "language_info": {
   "codemirror_mode": {
    "name": "ipython",
    "version": 3
   },
   "file_extension": ".py",
   "mimetype": "text/x-python",
   "name": "python",
   "nbconvert_exporter": "python",
   "pygments_lexer": "ipython3",
   "version": "3.13.5"
  }
 },
 "nbformat": 4,
 "nbformat_minor": 5
}
