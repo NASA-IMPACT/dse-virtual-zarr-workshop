{
 "cells": [
  {
   "cell_type": "markdown",
   "id": "2b5c9579",
   "metadata": {},
   "source": [
    "## Hands-on - Virtualize NetCDF from EarthData\n"
   ]
  },
  {
   "cell_type": "markdown",
   "id": "1f4c032c",
   "metadata": {},
   "source": [
    "### Step 1: Import necessary functions and classes"
   ]
  },
  {
   "cell_type": "code",
   "execution_count": null,
   "id": "c8ecb7bc",
   "metadata": {},
   "outputs": [],
   "source": [
    "import datetime\n",
    "from urllib.parse import urlparse\n",
    "\n",
    "import earthaccess\n",
    "import obstore\n",
    "import pandas as pd\n",
    "import xarray as xr\n",
    "from obstore.auth.earthdata import NasaEarthdataCredentialProvider\n",
    "from virtualizarr import open_virtual_dataset, open_virtual_mfdataset\n",
    "from virtualizarr.parsers import HDFParser\n",
    "from virtualizarr.registry import ObjectStoreRegistry"
   ]
  },
  {
   "cell_type": "markdown",
   "id": "da30a841-dfa5-4a77-9455-d292449aef11",
   "metadata": {},
   "source": [
    "Zarr can emit a lot of warnings about Numcodecs not being including in the Zarr version 3 specification yet -- let's suppress those."
   ]
  },
  {
   "cell_type": "code",
   "execution_count": null,
   "id": "883876de-483a-4739-88ed-c73503f06347",
   "metadata": {},
   "outputs": [],
   "source": [
    "import warnings\n",
    "\n",
    "warnings.filterwarnings(\n",
    "    \"ignore\",\n",
    "    message=\"Numcodecs codecs are not in the Zarr version 3 specification*\",\n",
    "    category=UserWarning,\n",
    ")"
   ]
  },
  {
   "cell_type": "markdown",
   "id": "ffa5ddc8",
   "metadata": {},
   "source": [
    "### Step 2: Search NASA CMR using earthaccess"
   ]
  },
  {
   "cell_type": "code",
   "execution_count": null,
   "id": "24f5b227",
   "metadata": {},
   "outputs": [],
   "source": [
    "start_date = datetime.datetime(2022, 4, 1)\n",
    "end_date = datetime.datetime(2022, 5, 12)\n",
    "date_array = pd.date_range(start=start_date, end=end_date, freq=\"D\").to_pydatetime()\n",
    "\n",
    "short_name = \"GLDAS_NOAH025_3H\"\n",
    "version = \"2.1\"\n",
    "variable = \"SoilMoi0_10cm_inst\"  # Only select a single variable of interest\n",
    "\n",
    "print(\"Retrieving data granules from Earthaccess\")\n",
    "earthaccess.login()\n",
    "results = earthaccess.search_data(\n",
    "    short_name=short_name,\n",
    "    version=version,\n",
    "    temporal=(start_date, end_date),\n",
    "    cloud_hosted=True,\n",
    ")\n",
    "urls = [g[\"umm\"][\"RelatedUrls\"][1][\"URL\"] for g in results]"
   ]
  },
  {
   "cell_type": "markdown",
   "id": "43f912f0",
   "metadata": {},
   "source": [
    "### Step 3: Create an ObjectStore and an ObjectStoreRegistry"
   ]
  },
  {
   "cell_type": "code",
   "execution_count": null,
   "id": "e2a5b811-500f-430c-945b-07724e2dc7c1",
   "metadata": {},
   "outputs": [],
   "source": [
    "url = urls[0]  # Use the first URL for virtualizarr\n",
    "parsed = urlparse(url)\n",
    "bucket = parsed.netloc\n",
    "scheme = parsed.scheme\n",
    "credential_url = [\n",
    "    item[\"URL\"]\n",
    "    for item in results[0][\"umm\"][\"RelatedUrls\"]\n",
    "    if item[\"Description\"]\n",
    "    == \"api endpoint to retrieve temporary credentials valid for same-region direct s3 access\"\n",
    "][0]\n",
    "cp = NasaEarthdataCredentialProvider(credential_url)"
   ]
  },
  {
   "cell_type": "code",
   "execution_count": null,
   "id": "4a276534",
   "metadata": {},
   "outputs": [],
   "source": [
    "store = obstore.store.S3Store(bucket=bucket, region=\"us-west-2\", credential_provider=cp)\n",
    "registry = ObjectStoreRegistry({f\"{scheme}://{bucket}\": store})"
   ]
  },
  {
   "cell_type": "markdown",
   "id": "de36aa4b",
   "metadata": {},
   "source": [
    "### Step 4: Create an instance of the HDFParser"
   ]
  },
  {
   "cell_type": "code",
   "execution_count": null,
   "id": "606d0762",
   "metadata": {},
   "outputs": [],
   "source": [
    "parser = HDFParser()"
   ]
  },
  {
   "cell_type": "markdown",
   "id": "c51b8607",
   "metadata": {},
   "source": [
    "### Step 5: Create a virtual dataset via open_virtual_dataset"
   ]
  },
  {
   "cell_type": "code",
   "execution_count": null,
   "id": "79f80e72",
   "metadata": {},
   "outputs": [],
   "source": [
    "vds = open_virtual_dataset(\n",
    "    url=url,\n",
    "    parser=parser,\n",
    "    registry=registry,\n",
    ")"
   ]
  },
  {
   "cell_type": "markdown",
   "id": "09ba60a2-9024-4110-ba1a-b4b63d0d87c7",
   "metadata": {},
   "source": [
    "### Step 6: Create a virtual datacube via open_virtual_dataset"
   ]
  },
  {
   "cell_type": "code",
   "execution_count": null,
   "id": "a9e91818",
   "metadata": {},
   "outputs": [],
   "source": [
    "vds = open_virtual_mfdataset(urls=urls[:2], parser=parser, registry=registry)\n",
    "vds"
   ]
  },
  {
   "cell_type": "markdown",
   "id": "2217d304-70cf-4b86-bd3d-8210c859c005",
   "metadata": {},
   "source": [
    "### Step 7: Load data directly into Xarray"
   ]
  },
  {
   "cell_type": "code",
   "execution_count": null,
   "id": "3e9870b7-8e47-4588-a6f4-a008d88e1267",
   "metadata": {},
   "outputs": [],
   "source": [
    "ds = xr.open_zarr(parser(urls[0], registry=registry), zarr_format=3, consolidated=False)\n",
    "da = ds[\"Snowf_tavg\"]\n",
    "da"
   ]
  },
  {
   "cell_type": "code",
   "execution_count": null,
   "id": "1b2a2aa1-1796-430d-b979-80b2508e936e",
   "metadata": {},
   "outputs": [],
   "source": [
    "da.load()\n",
    "da.plot()"
   ]
  },
  {
   "cell_type": "markdown",
   "id": "30d73c2d-f8a8-4588-8aa3-e9b7edb7075c",
   "metadata": {},
   "source": [
    "### TODO\n",
    "\n",
    "Currently persisting virtual Zarr stores that access data behing Earthdata Login with Icechunk is quite clunky. Therefore, it has been excluded from the demo. We are actively discussing options for a more user-friendly API with the Icechunk developers."
   ]
  },
  {
   "cell_type": "code",
   "execution_count": null,
   "id": "89d721a6-b163-48e9-89aa-c6eabf47385c",
   "metadata": {},
   "outputs": [],
   "source": []
  }
 ],
 "metadata": {
  "kernelspec": {
   "display_name": "Python 3 (ipykernel)",
   "language": "python",
   "name": "python3"
  },
  "language_info": {
   "codemirror_mode": {
    "name": "ipython",
    "version": 3
   },
   "file_extension": ".py",
   "mimetype": "text/x-python",
   "name": "python",
   "nbconvert_exporter": "python",
   "pygments_lexer": "ipython3",
   "version": "3.13.7"
  }
 },
 "nbformat": 4,
 "nbformat_minor": 5
}
