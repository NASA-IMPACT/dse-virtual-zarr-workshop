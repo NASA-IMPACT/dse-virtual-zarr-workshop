{
 "cells": [
  {
   "cell_type": "markdown",
   "id": "8ad557e4-5fbf-41d3-8a10-98da53634057",
   "metadata": {},
   "source": [
    "## Creating STAC Items for a legacgy files referenced by Virtual Icechunk Store\n",
    "\n",
    "There is a virtual icechunk store that is publicly available at: s3://nasa-waterinsight/virtual-zarr-store/NLDAS-3-icechunk/\n",
    "\n",
    "This notebook goes through the current thinking for how you would set up STAC items that point to the legacy file formats referenced by the virtual store. "
   ]
  },
  {
   "cell_type": "code",
   "execution_count": 15,
   "id": "6eb787d3-2e2c-4f72-9aed-12022fa6f5c9",
   "metadata": {
    "execution": {
     "iopub.execute_input": "2025-09-09T15:27:54.714879Z",
     "iopub.status.busy": "2025-09-09T15:27:54.714472Z",
     "iopub.status.idle": "2025-09-09T15:27:54.719937Z",
     "shell.execute_reply": "2025-09-09T15:27:54.719319Z",
     "shell.execute_reply.started": "2025-09-09T15:27:54.714846Z"
    }
   },
   "outputs": [],
   "source": [
    "import icechunk\n",
    "import zarr\n",
    "import xstac\n",
    "\n",
    "import numpy as np\n",
    "import xarray as xr"
   ]
  },
  {
   "cell_type": "markdown",
   "id": "c68fe3f7",
   "metadata": {},
   "source": [
    "Zarr can emit a lot of warnings about Numcodecs not being including in the Zarr version 3 specification yet -- let's suppress those."
   ]
  },
  {
   "cell_type": "code",
   "execution_count": 2,
   "id": "93265dde-ef61-4217-b0e1-b6e68095febe",
   "metadata": {
    "execution": {
     "iopub.execute_input": "2025-09-09T15:26:13.261734Z",
     "iopub.status.busy": "2025-09-09T15:26:13.261610Z",
     "iopub.status.idle": "2025-09-09T15:26:13.264680Z",
     "shell.execute_reply": "2025-09-09T15:26:13.264154Z",
     "shell.execute_reply.started": "2025-09-09T15:26:13.261722Z"
    }
   },
   "outputs": [],
   "source": [
    "import warnings\n",
    "\n",
    "warnings.filterwarnings(\n",
    "    \"ignore\",\n",
    "    message=\"Numcodecs codecs are not in the Zarr version 3 specification*\",\n",
    "    category=UserWarning,\n",
    ")"
   ]
  },
  {
   "cell_type": "markdown",
   "id": "647e3459-3e2f-4749-bc06-82f6e7fc1581",
   "metadata": {},
   "source": [
    "These are the PRs that need to land before you can open the virtual icechunk store with zarr directly:\n",
    "\n",
    "- https://github.com/zarr-developers/zarr-python/pull/3369\n",
    "- https://github.com/earth-mover/icechunk/pull/1161\n",
    "\n",
    "Until then:"
   ]
  },
  {
   "cell_type": "code",
   "execution_count": 3,
   "id": "ac29867a-c95e-4956-b370-dceb0dd1bd94",
   "metadata": {
    "execution": {
     "iopub.execute_input": "2025-09-09T15:26:13.265158Z",
     "iopub.status.busy": "2025-09-09T15:26:13.265040Z",
     "iopub.status.idle": "2025-09-09T15:26:17.247977Z",
     "shell.execute_reply": "2025-09-09T15:26:17.247309Z",
     "shell.execute_reply.started": "2025-09-09T15:26:13.265147Z"
    }
   },
   "outputs": [],
   "source": [
    "storage = icechunk.s3_storage(\n",
    "    bucket=\"nasa-waterinsight\",\n",
    "    prefix=\"virtual-zarr-store/NLDAS-3-icechunk/\",\n",
    "    region=\"us-west-2\",\n",
    "    anonymous=True,\n",
    ")\n",
    "\n",
    "config = icechunk.RepositoryConfig.default()\n",
    "config.set_virtual_chunk_container(\n",
    "    icechunk.VirtualChunkContainer(\n",
    "        \"s3://nasa-waterinsight/NLDAS3/forcing/daily/\",\n",
    "        icechunk.s3_store(region=\"us-west-2\")\n",
    "    )\n",
    ")\n",
    "virtual_credentials = icechunk.containers_credentials(\n",
    "    {\n",
    "        \"s3://nasa-waterinsight/NLDAS3/forcing/daily/\": icechunk.s3_anonymous_credentials()\n",
    "    }\n",
    ")\n",
    "\n",
    "repo = icechunk.Repository.open(\n",
    "    storage=storage,\n",
    "    config=config,\n",
    "    authorize_virtual_chunk_access=virtual_credentials,\n",
    ")\n",
    "\n",
    "session = repo.readonly_session('main')\n",
    "ds = xr.open_zarr(session.store, consolidated=False, zarr_format=3)"
   ]
  },
  {
   "cell_type": "markdown",
   "id": "8d7279e4-d0dc-4943-a1c0-e0e1b051517a",
   "metadata": {},
   "source": [
    "From this virtual icechunk store we can get the locations of all the chunks. This technically only accesses a single snapshot, so to get them all you might have to recurse back through time (https://github.com/earth-mover/icechunk/issues/1194). In this case though \n",
    "\n",
    "Note that this takes some time."
   ]
  },
  {
   "cell_type": "code",
   "execution_count": 4,
   "id": "cf9ea3ee-6bc0-4ed8-8566-d7b9fcb38f21",
   "metadata": {
    "execution": {
     "iopub.execute_input": "2025-09-09T15:26:17.249684Z",
     "iopub.status.busy": "2025-09-09T15:26:17.248982Z",
     "iopub.status.idle": "2025-09-09T15:27:06.206284Z",
     "shell.execute_reply": "2025-09-09T15:27:06.205273Z",
     "shell.execute_reply.started": "2025-09-09T15:26:17.249653Z"
    }
   },
   "outputs": [
    {
     "name": "stdout",
     "output_type": "stream",
     "text": [
      "CPU times: user 24.1 s, sys: 3.28 s, total: 27.4 s\n",
      "Wall time: 48.9 s\n"
     ]
    }
   ],
   "source": [
    "%%time\n",
    "\n",
    "chunk_locations = session.all_virtual_chunk_locations()"
   ]
  },
  {
   "cell_type": "code",
   "execution_count": 5,
   "id": "09698f27-2e51-4558-8db8-676adb7e1566",
   "metadata": {
    "execution": {
     "iopub.execute_input": "2025-09-09T15:27:06.209342Z",
     "iopub.status.busy": "2025-09-09T15:27:06.209080Z",
     "iopub.status.idle": "2025-09-09T15:27:06.222101Z",
     "shell.execute_reply": "2025-09-09T15:27:06.219991Z",
     "shell.execute_reply.started": "2025-09-09T15:27:06.209320Z"
    }
   },
   "outputs": [
    {
     "data": {
      "text/plain": [
       "14194310"
      ]
     },
     "execution_count": 5,
     "metadata": {},
     "output_type": "execute_result"
    }
   ],
   "source": [
    "len(chunk_locations)"
   ]
  },
  {
   "cell_type": "markdown",
   "id": "dcac9f0c-448a-473e-830f-49f068049e6f",
   "metadata": {},
   "source": [
    "That gives the locations of every chunk. So we need to deduplicate it to get a list of files"
   ]
  },
  {
   "cell_type": "code",
   "execution_count": 6,
   "id": "567fc0ab-94f8-4921-844c-a7a83691a431",
   "metadata": {
    "execution": {
     "iopub.execute_input": "2025-09-09T15:27:06.222864Z",
     "iopub.status.busy": "2025-09-09T15:27:06.222664Z",
     "iopub.status.idle": "2025-09-09T15:27:07.090958Z",
     "shell.execute_reply": "2025-09-09T15:27:07.088492Z",
     "shell.execute_reply.started": "2025-09-09T15:27:06.222846Z"
    }
   },
   "outputs": [],
   "source": [
    "legacy_files = sorted(list(set(chunk_locations)))"
   ]
  },
  {
   "cell_type": "code",
   "execution_count": 7,
   "id": "e06b3988-9ee0-4af2-8113-56dbcaf5cf24",
   "metadata": {
    "execution": {
     "iopub.execute_input": "2025-09-09T15:27:07.091991Z",
     "iopub.status.busy": "2025-09-09T15:27:07.091677Z",
     "iopub.status.idle": "2025-09-09T15:27:07.109410Z",
     "shell.execute_reply": "2025-09-09T15:27:07.108725Z",
     "shell.execute_reply.started": "2025-09-09T15:27:07.091963Z"
    }
   },
   "outputs": [
    {
     "data": {
      "text/plain": [
       "['s3://nasa-waterinsight/NLDAS3/forcing/daily/200101/NLDAS_FOR0010_D.A20010101.030.beta.nc',\n",
       " 's3://nasa-waterinsight/NLDAS3/forcing/daily/200101/NLDAS_FOR0010_D.A20010102.030.beta.nc',\n",
       " 's3://nasa-waterinsight/NLDAS3/forcing/daily/200101/NLDAS_FOR0010_D.A20010103.030.beta.nc',\n",
       " 's3://nasa-waterinsight/NLDAS3/forcing/daily/200101/NLDAS_FOR0010_D.A20010104.030.beta.nc',\n",
       " 's3://nasa-waterinsight/NLDAS3/forcing/daily/200101/NLDAS_FOR0010_D.A20010105.030.beta.nc']"
      ]
     },
     "execution_count": 7,
     "metadata": {},
     "output_type": "execute_result"
    }
   ],
   "source": [
    "legacy_files[:5]"
   ]
  },
  {
   "cell_type": "markdown",
   "id": "52d6f0ed-1873-46bc-8fb7-03a1dd905f35",
   "metadata": {},
   "source": [
    "As a sanity check we can just confirm that we have the same number of files as we do timesteps."
   ]
  },
  {
   "cell_type": "code",
   "execution_count": 8,
   "id": "1920fb20-01a0-4d2a-b10b-66ec8b961a44",
   "metadata": {
    "execution": {
     "iopub.execute_input": "2025-09-09T15:27:07.110555Z",
     "iopub.status.busy": "2025-09-09T15:27:07.110251Z",
     "iopub.status.idle": "2025-09-09T15:27:07.125320Z",
     "shell.execute_reply": "2025-09-09T15:27:07.124197Z",
     "shell.execute_reply.started": "2025-09-09T15:27:07.110528Z"
    }
   },
   "outputs": [],
   "source": [
    "assert len(legacy_files) == len(ds.time)"
   ]
  },
  {
   "cell_type": "markdown",
   "id": "42aafe72-5d03-4957-8be6-38b951150671",
   "metadata": {},
   "source": [
    "For instance here is the chunkgrid for `ds.PSurf`"
   ]
  },
  {
   "cell_type": "code",
   "execution_count": 9,
   "id": "7c83fce3-5861-4d36-a283-6a806121ddb4",
   "metadata": {
    "execution": {
     "iopub.execute_input": "2025-09-09T15:27:07.126245Z",
     "iopub.status.busy": "2025-09-09T15:27:07.126016Z",
     "iopub.status.idle": "2025-09-09T15:27:07.138251Z",
     "shell.execute_reply": "2025-09-09T15:27:07.136153Z",
     "shell.execute_reply.started": "2025-09-09T15:27:07.126227Z"
    }
   },
   "outputs": [
    {
     "data": {
      "text/plain": [
       "(8399, 13, 13)"
      ]
     },
     "execution_count": 9,
     "metadata": {},
     "output_type": "execute_result"
    }
   ],
   "source": [
    "ds.PSurf.data.numblocks"
   ]
  },
  {
   "cell_type": "markdown",
   "id": "b7afe105-ef85-4009-817e-21f523673810",
   "metadata": {},
   "source": [
    "You can multiply all those numbers together to get the total number of chunks"
   ]
  },
  {
   "cell_type": "code",
   "execution_count": 10,
   "id": "252d6b18-03f4-4baf-bbf4-3206bd0fb72a",
   "metadata": {
    "execution": {
     "iopub.execute_input": "2025-09-09T15:27:07.140674Z",
     "iopub.status.busy": "2025-09-09T15:27:07.140437Z",
     "iopub.status.idle": "2025-09-09T15:27:07.154543Z",
     "shell.execute_reply": "2025-09-09T15:27:07.152502Z",
     "shell.execute_reply.started": "2025-09-09T15:27:07.140654Z"
    }
   },
   "outputs": [
    {
     "data": {
      "text/plain": [
       "1419431"
      ]
     },
     "execution_count": 10,
     "metadata": {},
     "output_type": "execute_result"
    }
   ],
   "source": [
    "numchunks = 1 \n",
    "for n in ds.PSurf.data.numblocks:\n",
    "    numchunks *= n\n",
    "numchunks"
   ]
  },
  {
   "cell_type": "markdown",
   "id": "d6144169-73e4-4c9a-ab1c-2dfc910ee180",
   "metadata": {},
   "source": [
    "That number matches the number in the dask array representation."
   ]
  },
  {
   "cell_type": "code",
   "execution_count": 11,
   "id": "6e7f5ee8-9b40-42e5-9b4b-fa480b360bc5",
   "metadata": {
    "execution": {
     "iopub.execute_input": "2025-09-09T15:27:07.159412Z",
     "iopub.status.busy": "2025-09-09T15:27:07.157721Z",
     "iopub.status.idle": "2025-09-09T15:27:07.181583Z",
     "shell.execute_reply": "2025-09-09T15:27:07.179558Z",
     "shell.execute_reply.started": "2025-09-09T15:27:07.159286Z"
    }
   },
   "outputs": [
    {
     "data": {
      "text/html": [
       "<table>\n",
       "    <tr>\n",
       "        <td>\n",
       "            <table style=\"border-collapse: collapse;\">\n",
       "                <thead>\n",
       "                    <tr>\n",
       "                        <td> </td>\n",
       "                        <th> Array </th>\n",
       "                        <th> Chunk </th>\n",
       "                    </tr>\n",
       "                </thead>\n",
       "                <tbody>\n",
       "                    \n",
       "                    <tr>\n",
       "                        <th> Bytes </th>\n",
       "                        <td> 4.65 TiB </td>\n",
       "                        <td> 3.43 MiB </td>\n",
       "                    </tr>\n",
       "                    \n",
       "                    <tr>\n",
       "                        <th> Shape </th>\n",
       "                        <td> (8399, 6500, 11700) </td>\n",
       "                        <td> (1, 500, 900) </td>\n",
       "                    </tr>\n",
       "                    <tr>\n",
       "                        <th> Dask graph </th>\n",
       "                        <td colspan=\"2\"> 1419431 chunks in 2 graph layers </td>\n",
       "                    </tr>\n",
       "                    <tr>\n",
       "                        <th> Data type </th>\n",
       "                        <td colspan=\"2\"> float64 numpy.ndarray </td>\n",
       "                    </tr>\n",
       "                </tbody>\n",
       "            </table>\n",
       "        </td>\n",
       "        <td>\n",
       "        <svg width=\"230\" height=\"167\" style=\"stroke:rgb(0,0,0);stroke-width:1\" >\n",
       "\n",
       "  <!-- Horizontal lines -->\n",
       "  <line x1=\"10\" y1=\"0\" x2=\"60\" y2=\"50\" style=\"stroke-width:2\" />\n",
       "  <line x1=\"10\" y1=\"5\" x2=\"60\" y2=\"55\" />\n",
       "  <line x1=\"10\" y1=\"10\" x2=\"60\" y2=\"60\" />\n",
       "  <line x1=\"10\" y1=\"15\" x2=\"60\" y2=\"66\" />\n",
       "  <line x1=\"10\" y1=\"20\" x2=\"60\" y2=\"71\" />\n",
       "  <line x1=\"10\" y1=\"25\" x2=\"60\" y2=\"76\" />\n",
       "  <line x1=\"10\" y1=\"30\" x2=\"60\" y2=\"81\" />\n",
       "  <line x1=\"10\" y1=\"35\" x2=\"60\" y2=\"86\" />\n",
       "  <line x1=\"10\" y1=\"41\" x2=\"60\" y2=\"91\" />\n",
       "  <line x1=\"10\" y1=\"46\" x2=\"60\" y2=\"96\" />\n",
       "  <line x1=\"10\" y1=\"51\" x2=\"60\" y2=\"101\" />\n",
       "  <line x1=\"10\" y1=\"56\" x2=\"60\" y2=\"107\" />\n",
       "  <line x1=\"10\" y1=\"61\" x2=\"60\" y2=\"112\" />\n",
       "  <line x1=\"10\" y1=\"66\" x2=\"60\" y2=\"117\" style=\"stroke-width:2\" />\n",
       "\n",
       "  <!-- Vertical lines -->\n",
       "  <line x1=\"10\" y1=\"0\" x2=\"10\" y2=\"66\" style=\"stroke-width:2\" />\n",
       "  <line x1=\"12\" y1=\"2\" x2=\"12\" y2=\"69\" />\n",
       "  <line x1=\"15\" y1=\"5\" x2=\"15\" y2=\"72\" />\n",
       "  <line x1=\"18\" y1=\"8\" x2=\"18\" y2=\"74\" />\n",
       "  <line x1=\"20\" y1=\"10\" x2=\"20\" y2=\"77\" />\n",
       "  <line x1=\"23\" y1=\"13\" x2=\"23\" y2=\"80\" />\n",
       "  <line x1=\"26\" y1=\"16\" x2=\"26\" y2=\"82\" />\n",
       "  <line x1=\"28\" y1=\"18\" x2=\"28\" y2=\"85\" />\n",
       "  <line x1=\"31\" y1=\"21\" x2=\"31\" y2=\"88\" />\n",
       "  <line x1=\"34\" y1=\"24\" x2=\"34\" y2=\"90\" />\n",
       "  <line x1=\"36\" y1=\"26\" x2=\"36\" y2=\"93\" />\n",
       "  <line x1=\"39\" y1=\"29\" x2=\"39\" y2=\"96\" />\n",
       "  <line x1=\"42\" y1=\"32\" x2=\"42\" y2=\"98\" />\n",
       "  <line x1=\"44\" y1=\"34\" x2=\"44\" y2=\"101\" />\n",
       "  <line x1=\"47\" y1=\"37\" x2=\"47\" y2=\"104\" />\n",
       "  <line x1=\"50\" y1=\"40\" x2=\"50\" y2=\"106\" />\n",
       "  <line x1=\"52\" y1=\"42\" x2=\"52\" y2=\"109\" />\n",
       "  <line x1=\"55\" y1=\"45\" x2=\"55\" y2=\"112\" />\n",
       "  <line x1=\"58\" y1=\"48\" x2=\"58\" y2=\"114\" />\n",
       "  <line x1=\"60\" y1=\"50\" x2=\"60\" y2=\"117\" style=\"stroke-width:2\" />\n",
       "\n",
       "  <!-- Colored Rectangle -->\n",
       "  <polygon points=\"10.0,0.0 60.672699849170435,50.672699849170435 60.672699849170435,117.3393665158371 10.0,66.66666666666667\" style=\"fill:#8B4903A0;stroke-width:0\"/>\n",
       "\n",
       "  <!-- Horizontal lines -->\n",
       "  <line x1=\"10\" y1=\"0\" x2=\"130\" y2=\"0\" style=\"stroke-width:2\" />\n",
       "  <line x1=\"12\" y1=\"2\" x2=\"132\" y2=\"2\" />\n",
       "  <line x1=\"15\" y1=\"5\" x2=\"135\" y2=\"5\" />\n",
       "  <line x1=\"18\" y1=\"8\" x2=\"138\" y2=\"8\" />\n",
       "  <line x1=\"20\" y1=\"10\" x2=\"140\" y2=\"10\" />\n",
       "  <line x1=\"23\" y1=\"13\" x2=\"143\" y2=\"13\" />\n",
       "  <line x1=\"26\" y1=\"16\" x2=\"146\" y2=\"16\" />\n",
       "  <line x1=\"28\" y1=\"18\" x2=\"148\" y2=\"18\" />\n",
       "  <line x1=\"31\" y1=\"21\" x2=\"151\" y2=\"21\" />\n",
       "  <line x1=\"34\" y1=\"24\" x2=\"154\" y2=\"24\" />\n",
       "  <line x1=\"36\" y1=\"26\" x2=\"156\" y2=\"26\" />\n",
       "  <line x1=\"39\" y1=\"29\" x2=\"159\" y2=\"29\" />\n",
       "  <line x1=\"42\" y1=\"32\" x2=\"162\" y2=\"32\" />\n",
       "  <line x1=\"44\" y1=\"34\" x2=\"164\" y2=\"34\" />\n",
       "  <line x1=\"47\" y1=\"37\" x2=\"167\" y2=\"37\" />\n",
       "  <line x1=\"50\" y1=\"40\" x2=\"170\" y2=\"40\" />\n",
       "  <line x1=\"52\" y1=\"42\" x2=\"172\" y2=\"42\" />\n",
       "  <line x1=\"55\" y1=\"45\" x2=\"175\" y2=\"45\" />\n",
       "  <line x1=\"58\" y1=\"48\" x2=\"178\" y2=\"48\" />\n",
       "  <line x1=\"60\" y1=\"50\" x2=\"180\" y2=\"50\" style=\"stroke-width:2\" />\n",
       "\n",
       "  <!-- Vertical lines -->\n",
       "  <line x1=\"10\" y1=\"0\" x2=\"60\" y2=\"50\" style=\"stroke-width:2\" />\n",
       "  <line x1=\"19\" y1=\"0\" x2=\"69\" y2=\"50\" />\n",
       "  <line x1=\"28\" y1=\"0\" x2=\"79\" y2=\"50\" />\n",
       "  <line x1=\"37\" y1=\"0\" x2=\"88\" y2=\"50\" />\n",
       "  <line x1=\"46\" y1=\"0\" x2=\"97\" y2=\"50\" />\n",
       "  <line x1=\"56\" y1=\"0\" x2=\"106\" y2=\"50\" />\n",
       "  <line x1=\"65\" y1=\"0\" x2=\"116\" y2=\"50\" />\n",
       "  <line x1=\"74\" y1=\"0\" x2=\"125\" y2=\"50\" />\n",
       "  <line x1=\"83\" y1=\"0\" x2=\"134\" y2=\"50\" />\n",
       "  <line x1=\"93\" y1=\"0\" x2=\"143\" y2=\"50\" />\n",
       "  <line x1=\"102\" y1=\"0\" x2=\"152\" y2=\"50\" />\n",
       "  <line x1=\"111\" y1=\"0\" x2=\"162\" y2=\"50\" />\n",
       "  <line x1=\"120\" y1=\"0\" x2=\"171\" y2=\"50\" />\n",
       "  <line x1=\"130\" y1=\"0\" x2=\"180\" y2=\"50\" style=\"stroke-width:2\" />\n",
       "\n",
       "  <!-- Colored Rectangle -->\n",
       "  <polygon points=\"10.0,0.0 130.0,0.0 180.67269984917044,50.672699849170435 60.672699849170435,50.672699849170435\" style=\"fill:#8B4903A0;stroke-width:0\"/>\n",
       "\n",
       "  <!-- Horizontal lines -->\n",
       "  <line x1=\"60\" y1=\"50\" x2=\"180\" y2=\"50\" style=\"stroke-width:2\" />\n",
       "  <line x1=\"60\" y1=\"55\" x2=\"180\" y2=\"55\" />\n",
       "  <line x1=\"60\" y1=\"60\" x2=\"180\" y2=\"60\" />\n",
       "  <line x1=\"60\" y1=\"66\" x2=\"180\" y2=\"66\" />\n",
       "  <line x1=\"60\" y1=\"71\" x2=\"180\" y2=\"71\" />\n",
       "  <line x1=\"60\" y1=\"76\" x2=\"180\" y2=\"76\" />\n",
       "  <line x1=\"60\" y1=\"81\" x2=\"180\" y2=\"81\" />\n",
       "  <line x1=\"60\" y1=\"86\" x2=\"180\" y2=\"86\" />\n",
       "  <line x1=\"60\" y1=\"91\" x2=\"180\" y2=\"91\" />\n",
       "  <line x1=\"60\" y1=\"96\" x2=\"180\" y2=\"96\" />\n",
       "  <line x1=\"60\" y1=\"101\" x2=\"180\" y2=\"101\" />\n",
       "  <line x1=\"60\" y1=\"107\" x2=\"180\" y2=\"107\" />\n",
       "  <line x1=\"60\" y1=\"112\" x2=\"180\" y2=\"112\" />\n",
       "  <line x1=\"60\" y1=\"117\" x2=\"180\" y2=\"117\" style=\"stroke-width:2\" />\n",
       "\n",
       "  <!-- Vertical lines -->\n",
       "  <line x1=\"60\" y1=\"50\" x2=\"60\" y2=\"117\" style=\"stroke-width:2\" />\n",
       "  <line x1=\"69\" y1=\"50\" x2=\"69\" y2=\"117\" />\n",
       "  <line x1=\"79\" y1=\"50\" x2=\"79\" y2=\"117\" />\n",
       "  <line x1=\"88\" y1=\"50\" x2=\"88\" y2=\"117\" />\n",
       "  <line x1=\"97\" y1=\"50\" x2=\"97\" y2=\"117\" />\n",
       "  <line x1=\"106\" y1=\"50\" x2=\"106\" y2=\"117\" />\n",
       "  <line x1=\"116\" y1=\"50\" x2=\"116\" y2=\"117\" />\n",
       "  <line x1=\"125\" y1=\"50\" x2=\"125\" y2=\"117\" />\n",
       "  <line x1=\"134\" y1=\"50\" x2=\"134\" y2=\"117\" />\n",
       "  <line x1=\"143\" y1=\"50\" x2=\"143\" y2=\"117\" />\n",
       "  <line x1=\"152\" y1=\"50\" x2=\"152\" y2=\"117\" />\n",
       "  <line x1=\"162\" y1=\"50\" x2=\"162\" y2=\"117\" />\n",
       "  <line x1=\"171\" y1=\"50\" x2=\"171\" y2=\"117\" />\n",
       "  <line x1=\"180\" y1=\"50\" x2=\"180\" y2=\"117\" style=\"stroke-width:2\" />\n",
       "\n",
       "  <!-- Colored Rectangle -->\n",
       "  <polygon points=\"60.672699849170435,50.672699849170435 180.67269984917044,50.672699849170435 180.67269984917044,117.3393665158371 60.672699849170435,117.3393665158371\" style=\"fill:#ECB172A0;stroke-width:0\"/>\n",
       "\n",
       "  <!-- Text -->\n",
       "  <text x=\"120.672700\" y=\"137.339367\" font-size=\"1.0rem\" font-weight=\"100\" text-anchor=\"middle\" >11700</text>\n",
       "  <text x=\"200.672700\" y=\"84.006033\" font-size=\"1.0rem\" font-weight=\"100\" text-anchor=\"middle\" transform=\"rotate(-90,200.672700,84.006033)\">6500</text>\n",
       "  <text x=\"25.336350\" y=\"112.003017\" font-size=\"1.0rem\" font-weight=\"100\" text-anchor=\"middle\" transform=\"rotate(45,25.336350,112.003017)\">8399</text>\n",
       "</svg>\n",
       "        </td>\n",
       "    </tr>\n",
       "</table>"
      ],
      "text/plain": [
       "dask.array<open_dataset-PSurf, shape=(8399, 6500, 11700), dtype=float64, chunksize=(1, 500, 900), chunktype=numpy.ndarray>"
      ]
     },
     "execution_count": 11,
     "metadata": {},
     "output_type": "execute_result"
    }
   ],
   "source": [
    "ds.PSurf.data"
   ]
  },
  {
   "cell_type": "markdown",
   "id": "561821be-8e34-4958-8705-d188076cf079",
   "metadata": {},
   "source": [
    "But we can't really know what the flat list of `chunk_locations` means in the context  of that chunk grid. What does this mean?"
   ]
  },
  {
   "cell_type": "code",
   "execution_count": 12,
   "id": "0a7e6b59-229f-4844-83f8-76f95c0d3532",
   "metadata": {
    "execution": {
     "iopub.execute_input": "2025-09-09T15:27:07.183051Z",
     "iopub.status.busy": "2025-09-09T15:27:07.182817Z",
     "iopub.status.idle": "2025-09-09T15:27:07.190010Z",
     "shell.execute_reply": "2025-09-09T15:27:07.189423Z",
     "shell.execute_reply.started": "2025-09-09T15:27:07.183032Z"
    }
   },
   "outputs": [
    {
     "data": {
      "text/plain": [
       "'s3://nasa-waterinsight/NLDAS3/forcing/daily/200101/NLDAS_FOR0010_D.A20010101.030.beta.nc'"
      ]
     },
     "execution_count": 12,
     "metadata": {},
     "output_type": "execute_result"
    }
   ],
   "source": [
    "chunk_locations[0]"
   ]
  },
  {
   "cell_type": "markdown",
   "id": "4a8857ed-fbdc-4152-bda9-5ed4ebf0ff0c",
   "metadata": {},
   "source": [
    "Ok so you can't really get that information out of icechunk right now as far as I can tell. So what about the other piece. "
   ]
  },
  {
   "cell_type": "markdown",
   "id": "c89bb94f-3259-44d6-b106-ef4b9b27ac8b",
   "metadata": {},
   "source": [
    "First let's take a slice of the array that represents just one point in time. As long as all the variables have the same shape it shouldn't matter which one you pick."
   ]
  },
  {
   "cell_type": "code",
   "execution_count": 13,
   "id": "fea2b74a-8476-4bb3-ab0f-1966152d9a30",
   "metadata": {
    "execution": {
     "iopub.execute_input": "2025-09-09T15:27:07.192629Z",
     "iopub.status.busy": "2025-09-09T15:27:07.192327Z",
     "iopub.status.idle": "2025-09-09T15:27:07.435302Z",
     "shell.execute_reply": "2025-09-09T15:27:07.434765Z",
     "shell.execute_reply.started": "2025-09-09T15:27:07.192601Z"
    }
   },
   "outputs": [
    {
     "data": {
      "text/html": [
       "<table>\n",
       "    <tr>\n",
       "        <td>\n",
       "            <table style=\"border-collapse: collapse;\">\n",
       "                <thead>\n",
       "                    <tr>\n",
       "                        <td> </td>\n",
       "                        <th> Array </th>\n",
       "                        <th> Chunk </th>\n",
       "                    </tr>\n",
       "                </thead>\n",
       "                <tbody>\n",
       "                    \n",
       "                    <tr>\n",
       "                        <th> Bytes </th>\n",
       "                        <td> 580.22 MiB </td>\n",
       "                        <td> 3.43 MiB </td>\n",
       "                    </tr>\n",
       "                    \n",
       "                    <tr>\n",
       "                        <th> Shape </th>\n",
       "                        <td> (6500, 11700) </td>\n",
       "                        <td> (500, 900) </td>\n",
       "                    </tr>\n",
       "                    <tr>\n",
       "                        <th> Dask graph </th>\n",
       "                        <td colspan=\"2\"> 169 chunks in 3 graph layers </td>\n",
       "                    </tr>\n",
       "                    <tr>\n",
       "                        <th> Data type </th>\n",
       "                        <td colspan=\"2\"> float64 numpy.ndarray </td>\n",
       "                    </tr>\n",
       "                </tbody>\n",
       "            </table>\n",
       "        </td>\n",
       "        <td>\n",
       "        <svg width=\"170\" height=\"116\" style=\"stroke:rgb(0,0,0);stroke-width:1\" >\n",
       "\n",
       "  <!-- Horizontal lines -->\n",
       "  <line x1=\"0\" y1=\"0\" x2=\"120\" y2=\"0\" style=\"stroke-width:2\" />\n",
       "  <line x1=\"0\" y1=\"5\" x2=\"120\" y2=\"5\" />\n",
       "  <line x1=\"0\" y1=\"10\" x2=\"120\" y2=\"10\" />\n",
       "  <line x1=\"0\" y1=\"15\" x2=\"120\" y2=\"15\" />\n",
       "  <line x1=\"0\" y1=\"20\" x2=\"120\" y2=\"20\" />\n",
       "  <line x1=\"0\" y1=\"25\" x2=\"120\" y2=\"25\" />\n",
       "  <line x1=\"0\" y1=\"30\" x2=\"120\" y2=\"30\" />\n",
       "  <line x1=\"0\" y1=\"35\" x2=\"120\" y2=\"35\" />\n",
       "  <line x1=\"0\" y1=\"41\" x2=\"120\" y2=\"41\" />\n",
       "  <line x1=\"0\" y1=\"46\" x2=\"120\" y2=\"46\" />\n",
       "  <line x1=\"0\" y1=\"51\" x2=\"120\" y2=\"51\" />\n",
       "  <line x1=\"0\" y1=\"56\" x2=\"120\" y2=\"56\" />\n",
       "  <line x1=\"0\" y1=\"61\" x2=\"120\" y2=\"61\" />\n",
       "  <line x1=\"0\" y1=\"66\" x2=\"120\" y2=\"66\" style=\"stroke-width:2\" />\n",
       "\n",
       "  <!-- Vertical lines -->\n",
       "  <line x1=\"0\" y1=\"0\" x2=\"0\" y2=\"66\" style=\"stroke-width:2\" />\n",
       "  <line x1=\"9\" y1=\"0\" x2=\"9\" y2=\"66\" />\n",
       "  <line x1=\"18\" y1=\"0\" x2=\"18\" y2=\"66\" />\n",
       "  <line x1=\"27\" y1=\"0\" x2=\"27\" y2=\"66\" />\n",
       "  <line x1=\"36\" y1=\"0\" x2=\"36\" y2=\"66\" />\n",
       "  <line x1=\"46\" y1=\"0\" x2=\"46\" y2=\"66\" />\n",
       "  <line x1=\"55\" y1=\"0\" x2=\"55\" y2=\"66\" />\n",
       "  <line x1=\"64\" y1=\"0\" x2=\"64\" y2=\"66\" />\n",
       "  <line x1=\"73\" y1=\"0\" x2=\"73\" y2=\"66\" />\n",
       "  <line x1=\"83\" y1=\"0\" x2=\"83\" y2=\"66\" />\n",
       "  <line x1=\"92\" y1=\"0\" x2=\"92\" y2=\"66\" />\n",
       "  <line x1=\"101\" y1=\"0\" x2=\"101\" y2=\"66\" />\n",
       "  <line x1=\"110\" y1=\"0\" x2=\"110\" y2=\"66\" />\n",
       "  <line x1=\"120\" y1=\"0\" x2=\"120\" y2=\"66\" style=\"stroke-width:2\" />\n",
       "\n",
       "  <!-- Colored Rectangle -->\n",
       "  <polygon points=\"0.0,0.0 120.0,0.0 120.0,66.66666666666667 0.0,66.66666666666667\" style=\"fill:#ECB172A0;stroke-width:0\"/>\n",
       "\n",
       "  <!-- Text -->\n",
       "  <text x=\"60.000000\" y=\"86.666667\" font-size=\"1.0rem\" font-weight=\"100\" text-anchor=\"middle\" >11700</text>\n",
       "  <text x=\"140.000000\" y=\"33.333333\" font-size=\"1.0rem\" font-weight=\"100\" text-anchor=\"middle\" transform=\"rotate(-90,140.000000,33.333333)\">6500</text>\n",
       "</svg>\n",
       "        </td>\n",
       "    </tr>\n",
       "</table>"
      ],
      "text/plain": [
       "dask.array<getitem, shape=(6500, 11700), dtype=float64, chunksize=(500, 900), chunktype=numpy.ndarray>"
      ]
     },
     "execution_count": 13,
     "metadata": {},
     "output_type": "execute_result"
    }
   ],
   "source": [
    "a = ds.PSurf.data[0, :, :]\n",
    "a"
   ]
  },
  {
   "cell_type": "code",
   "execution_count": 16,
   "id": "dbd48a92-f053-45f2-8646-a04804d90b99",
   "metadata": {
    "execution": {
     "iopub.execute_input": "2025-09-09T15:28:04.299206Z",
     "iopub.status.busy": "2025-09-09T15:28:04.298653Z",
     "iopub.status.idle": "2025-09-09T15:28:04.309076Z",
     "shell.execute_reply": "2025-09-09T15:28:04.308221Z",
     "shell.execute_reply.started": "2025-09-09T15:28:04.299165Z"
    }
   },
   "outputs": [
    {
     "data": {
      "text/plain": [
       "array([ 7.00500011, 11.99499989, 16.99499893, 21.99499893, 26.99499893,\n",
       "       31.99499893, 36.99499893, 41.99499893, 46.99499893, 51.99499893,\n",
       "       56.99499893, 61.99499893, 66.99499512, 71.99499512])"
      ]
     },
     "execution_count": 16,
     "metadata": {},
     "output_type": "execute_result"
    }
   ],
   "source": [
    "lat_chunk_indices = np.insert(np.array(a.chunks[0]).cumsum() - 1, 0, 0)\n",
    "lat_chunk_bounds = ds.lat.data[lat_chunk_indices]\n",
    "lat_chunk_bounds"
   ]
  },
  {
   "cell_type": "code",
   "execution_count": 17,
   "id": "db55ca47-9559-4fe4-83eb-f254478c51bb",
   "metadata": {
    "execution": {
     "iopub.execute_input": "2025-09-09T15:28:04.675108Z",
     "iopub.status.busy": "2025-09-09T15:28:04.674582Z",
     "iopub.status.idle": "2025-09-09T15:28:04.683795Z",
     "shell.execute_reply": "2025-09-09T15:28:04.682925Z",
     "shell.execute_reply.started": "2025-09-09T15:28:04.675066Z"
    }
   },
   "outputs": [
    {
     "data": {
      "text/plain": [
       "array([-168.99499512, -160.00498962, -151.00498962, -142.00498962,\n",
       "       -133.00500488, -124.00499725, -115.00499725, -106.00499725,\n",
       "        -97.00499725,  -88.00499725,  -79.00499725,  -70.00499725,\n",
       "        -61.00499725,  -52.00499725])"
      ]
     },
     "execution_count": 17,
     "metadata": {},
     "output_type": "execute_result"
    }
   ],
   "source": [
    "lon_chunk_indices = np.insert(np.array(a.chunks[1]).cumsum() - 1, 0, 0)\n",
    "lon_chunk_bounds = ds.lon.data[lon_chunk_indices]\n",
    "lon_chunk_bounds"
   ]
  },
  {
   "cell_type": "markdown",
   "id": "27487750-1bdc-498f-9714-a65c6d74963f",
   "metadata": {},
   "source": [
    "So those are the min and max of each chunk. We can construct the bounding box for each chunk by stepping along the lats and lons and taking two items at a time. We'll start with an array of zeros that has the same shape as the chunk grid except the last dimension is size 4 so that it can contain the bboxes."
   ]
  },
  {
   "cell_type": "code",
   "execution_count": 18,
   "id": "26e76681-b47f-4a3c-bd76-6fb3ef845ece",
   "metadata": {
    "execution": {
     "iopub.execute_input": "2025-09-09T15:28:05.134627Z",
     "iopub.status.busy": "2025-09-09T15:28:05.134459Z",
     "iopub.status.idle": "2025-09-09T15:28:05.137984Z",
     "shell.execute_reply": "2025-09-09T15:28:05.137591Z",
     "shell.execute_reply.started": "2025-09-09T15:28:05.134615Z"
    }
   },
   "outputs": [
    {
     "data": {
      "text/plain": [
       "('time', 'lat', 'lon')"
      ]
     },
     "execution_count": 18,
     "metadata": {},
     "output_type": "execute_result"
    }
   ],
   "source": [
    "ds.PSurf.dims"
   ]
  },
  {
   "cell_type": "code",
   "execution_count": 19,
   "id": "46c5004a-8b1e-4b4e-9c10-6b2f49d0f153",
   "metadata": {
    "execution": {
     "iopub.execute_input": "2025-09-09T15:28:05.371734Z",
     "iopub.status.busy": "2025-09-09T15:28:05.371311Z",
     "iopub.status.idle": "2025-09-09T15:28:05.378271Z",
     "shell.execute_reply": "2025-09-09T15:28:05.376959Z",
     "shell.execute_reply.started": "2025-09-09T15:28:05.371703Z"
    }
   },
   "outputs": [],
   "source": [
    "bboxes = np.zeros((a.numblocks[0], a.numblocks[1], 4))\n",
    "\n",
    "for n in range(a.numblocks[0]):\n",
    "    for m in range(a.numblocks[1]):\n",
    "        bboxes[n, m] = [lon_chunk_bounds[m], lat_chunk_bounds[n], lon_chunk_bounds[m + 1], lat_chunk_bounds[n + 1]]"
   ]
  },
  {
   "cell_type": "code",
   "execution_count": 20,
   "id": "085bb52c-8bc0-4540-99cb-05be0972d8b5",
   "metadata": {
    "execution": {
     "iopub.execute_input": "2025-09-09T15:28:05.611556Z",
     "iopub.status.busy": "2025-09-09T15:28:05.611009Z",
     "iopub.status.idle": "2025-09-09T15:28:05.618480Z",
     "shell.execute_reply": "2025-09-09T15:28:05.617610Z",
     "shell.execute_reply.started": "2025-09-09T15:28:05.611515Z"
    }
   },
   "outputs": [
    {
     "data": {
      "text/plain": [
       "array([-168.99499512,    7.00500011, -160.00498962,   11.99499989])"
      ]
     },
     "execution_count": 20,
     "metadata": {},
     "output_type": "execute_result"
    }
   ],
   "source": [
    "bboxes[0, 0]"
   ]
  },
  {
   "cell_type": "markdown",
   "id": "8b660f43-f6de-4e78-8a03-7e8086d64252",
   "metadata": {},
   "source": [
    "In practice we probably don't need the bounding boxes for each chunk. We just need the bounding boxes for the legacy files which we can assume contain contiguous chunks."
   ]
  },
  {
   "cell_type": "code",
   "execution_count": 21,
   "id": "918f634c-7e58-46f7-87ba-0267357bbb24",
   "metadata": {
    "execution": {
     "iopub.execute_input": "2025-09-09T15:28:06.111482Z",
     "iopub.status.busy": "2025-09-09T15:28:06.111027Z",
     "iopub.status.idle": "2025-09-09T15:28:06.127492Z",
     "shell.execute_reply": "2025-09-09T15:28:06.127133Z",
     "shell.execute_reply.started": "2025-09-09T15:28:06.111448Z"
    }
   },
   "outputs": [
    {
     "data": {
      "text/plain": [
       "(-168.9999951170962, 7.000000114825381, -51.99999725350927, 71.99999511680303)"
      ]
     },
     "execution_count": 21,
     "metadata": {},
     "output_type": "execute_result"
    }
   ],
   "source": [
    "ds.rio.bounds()"
   ]
  },
  {
   "cell_type": "markdown",
   "id": "6841dee1-9c22-4888-9d15-bd827385fd1a",
   "metadata": {},
   "source": [
    "## Create STAC items\n",
    "\n",
    "In order to construct a STAC Item for each of these legacy files we need to have the have the temporal and spatial bounds for each file. Unlike the STAC Collection we want the metadata in these to be pretty minimal. \n",
    "\n",
    "Just as a quick note we are using `pystac` here for construction and using `rustac` for reading/writing to stac-geoparquet."
   ]
  },
  {
   "cell_type": "code",
   "execution_count": 22,
   "id": "34958152-456b-4586-a2bc-c01f8d1aa3f8",
   "metadata": {
    "execution": {
     "iopub.execute_input": "2025-09-09T15:28:06.780585Z",
     "iopub.status.busy": "2025-09-09T15:28:06.779350Z",
     "iopub.status.idle": "2025-09-09T15:28:06.807099Z",
     "shell.execute_reply": "2025-09-09T15:28:06.806521Z",
     "shell.execute_reply.started": "2025-09-09T15:28:06.780541Z"
    }
   },
   "outputs": [],
   "source": [
    "import json\n",
    "import datetime as dt\n",
    "\n",
    "import pystac\n",
    "import rustac"
   ]
  },
  {
   "cell_type": "markdown",
   "id": "3bf23ca3-df7d-42fb-9d9b-87f82a3d8455",
   "metadata": {},
   "source": [
    "First we will read in the collection that we had created in the previous notebook:"
   ]
  },
  {
   "cell_type": "code",
   "execution_count": 23,
   "id": "dfebfd31-b54e-424f-838b-4f38fd34b753",
   "metadata": {
    "execution": {
     "iopub.execute_input": "2025-09-09T15:28:07.368862Z",
     "iopub.status.busy": "2025-09-09T15:28:07.368406Z",
     "iopub.status.idle": "2025-09-09T15:28:07.376013Z",
     "shell.execute_reply": "2025-09-09T15:28:07.374736Z",
     "shell.execute_reply.started": "2025-09-09T15:28:07.368826Z"
    }
   },
   "outputs": [],
   "source": [
    "collection = pystac.Collection.from_file(\"./collection.json\")"
   ]
  },
  {
   "cell_type": "markdown",
   "id": "bfdff137-e99d-4d4f-8d36-4aceb398404b",
   "metadata": {},
   "source": [
    "We'll use some hard-coded values that are pulled straight from the `xr.Dataset`. For instance we know that the bounding box for each of these netcdf file is exactly the same they just each represent a different timestep."
   ]
  },
  {
   "cell_type": "code",
   "execution_count": 24,
   "id": "5817fabb-5c72-40a6-95de-89736a3386a4",
   "metadata": {
    "execution": {
     "iopub.execute_input": "2025-09-09T15:28:07.882518Z",
     "iopub.status.busy": "2025-09-09T15:28:07.882069Z",
     "iopub.status.idle": "2025-09-09T15:28:07.930146Z",
     "shell.execute_reply": "2025-09-09T15:28:07.929076Z",
     "shell.execute_reply.started": "2025-09-09T15:28:07.882482Z"
    }
   },
   "outputs": [],
   "source": [
    "from shapely.geometry import box\n",
    "from shapely import to_geojson\n",
    "\n",
    "bbox = ds.rio.bounds()\n",
    "bbox = tuple(round(b, 4) for b in bbox)  # it might be wrong to round this, but it looked sooo close to round.\n",
    "bbox_polygon = box(*bbox)\n",
    "\n",
    "begin_time = ds.time.begin_time\n",
    "end_time = ds.time.end_time"
   ]
  },
  {
   "cell_type": "markdown",
   "id": "5ed8be8f-1a99-40bf-a799-3308489679bc",
   "metadata": {},
   "source": [
    "The item-specific values we will deduce from the filename for now, but ideally we would get this information in a more systematic way from the chunk information. Let's take a look at those legacy filepaths again:"
   ]
  },
  {
   "cell_type": "code",
   "execution_count": 25,
   "id": "4a42d27c-a342-4361-a706-3e8ac1b8aca3",
   "metadata": {
    "execution": {
     "iopub.execute_input": "2025-09-09T15:28:08.545731Z",
     "iopub.status.busy": "2025-09-09T15:28:08.545165Z",
     "iopub.status.idle": "2025-09-09T15:28:08.550616Z",
     "shell.execute_reply": "2025-09-09T15:28:08.549817Z",
     "shell.execute_reply.started": "2025-09-09T15:28:08.545699Z"
    }
   },
   "outputs": [
    {
     "data": {
      "text/plain": [
       "'s3://nasa-waterinsight/NLDAS3/forcing/daily/200101/NLDAS_FOR0010_D.A20010101.030.beta.nc'"
      ]
     },
     "execution_count": 25,
     "metadata": {},
     "output_type": "execute_result"
    }
   ],
   "source": [
    "legacy_files[0]"
   ]
  },
  {
   "cell_type": "markdown",
   "id": "199eb2f2-60eb-418f-a95b-8ccf224b174b",
   "metadata": {},
   "source": [
    "So - and this is kind of hacky - we can see that the whole date is actually encoded in the filepath. We just need to grab it out of there and parse it. Let's create a function that creates an item that basically just has the spatial and temporal extents set and points to one particular legacy file on s3."
   ]
  },
  {
   "cell_type": "code",
   "execution_count": 26,
   "id": "b032d0df-000b-40ed-894b-e491ab610941",
   "metadata": {
    "execution": {
     "iopub.execute_input": "2025-09-09T15:28:09.298930Z",
     "iopub.status.busy": "2025-09-09T15:28:09.298430Z",
     "iopub.status.idle": "2025-09-09T15:28:09.304952Z",
     "shell.execute_reply": "2025-09-09T15:28:09.304265Z",
     "shell.execute_reply.started": "2025-09-09T15:28:09.298892Z"
    }
   },
   "outputs": [],
   "source": [
    "def create_item(legacy_filepath):\n",
    "    filename = legacy_filepath.split(\"/\")[-1]\n",
    "    date = filename.split(\".030.beta.\")[0][-8:]\n",
    "    \n",
    "    datetime = dt.datetime.strptime(date, \"%Y%m%d\")\n",
    "    start_datetime = dt.datetime.strptime(f\"{date} {begin_time}\", \"%Y%m%d %H%M%S\")\n",
    "    end_datetime = dt.datetime.strptime(f\"{date} {end_time}\", \"%Y%m%d %H%M%S\")\n",
    "    \n",
    "    return pystac.Item(\n",
    "        filename,\n",
    "        geometry=json.loads(to_geojson(bbox_polygon)),\n",
    "        properties={\n",
    "            \"storage:schemes\": collection.extra_fields[\"storage:schemes\"]\n",
    "        },\n",
    "        bbox=bbox,\n",
    "        datetime=datetime,\n",
    "        start_datetime=start_datetime,\n",
    "        end_datetime=end_datetime,\n",
    "        collection=collection,\n",
    "        stac_extensions=[\n",
    "            \"https://stac-extensions.github.io/storage/v2.0.0/schema.json\",\n",
    "        ],\n",
    "        assets={\n",
    "            \"data\": pystac.Asset(\n",
    "                href=legacy_filepath,\n",
    "                media_type=\"application/x-netcdf\",\n",
    "                roles=[\"data\"],\n",
    "                extra_fields={\n",
    "                    \"storage:refs\": [\n",
    "                        \"aws-s3-nasa-waterinsight\"\n",
    "                    ],\n",
    "                }\n",
    "            )\n",
    "        }\n",
    "    )"
   ]
  },
  {
   "cell_type": "markdown",
   "id": "e375e3fb-317c-451c-ba6f-b9c1b2954cc6",
   "metadata": {},
   "source": [
    "We'll run it on one file to make sure it works and see how long it takes. "
   ]
  },
  {
   "cell_type": "code",
   "execution_count": 27,
   "id": "07591a22-eeab-493b-adc1-3aa6d4601b41",
   "metadata": {
    "execution": {
     "iopub.execute_input": "2025-09-09T15:28:10.240883Z",
     "iopub.status.busy": "2025-09-09T15:28:10.240646Z",
     "iopub.status.idle": "2025-09-09T15:28:10.268389Z",
     "shell.execute_reply": "2025-09-09T15:28:10.268010Z",
     "shell.execute_reply.started": "2025-09-09T15:28:10.240865Z"
    }
   },
   "outputs": [
    {
     "name": "stdout",
     "output_type": "stream",
     "text": [
      "CPU times: user 1.03 ms, sys: 1.01 ms, total: 2.04 ms\n",
      "Wall time: 14 ms\n"
     ]
    },
    {
     "data": {
      "text/html": [
       "\n",
       "\n",
       "<style>\n",
       ".pystac-summary {\n",
       "    cursor: pointer;\n",
       "    display: list-item;\n",
       "    list-style: revert;\n",
       "    margin-bottom: 0 !important;\n",
       "\n",
       "    .pystac-l {\n",
       "        padding-left: 0.5em;\n",
       "        color: rgb(64, 128, 128);\n",
       "        font-style: italic;\n",
       "    }\n",
       "}\n",
       ".pystac-row {\n",
       "    overflow-wrap: break-word;\n",
       "    padding-left: .825em;\n",
       "\n",
       "    .pystac-k {\n",
       "        display: inline-block;\n",
       "        margin: 0px 0.5em 0px 0px;\n",
       "    }\n",
       "    .pystac-v {\n",
       "        color: rgb(186, 33, 33);\n",
       "    }\n",
       "}\n",
       ".pystac-k {\n",
       "    color: rgb(0, 128, 0);\n",
       "    font-weight: 700;\n",
       "}\n",
       "</style>\n",
       "<div class=\"jp-RenderedJSON jp-mod-trusted jp-OutputArea-output\">\n",
       "    <div class=\"container\" style=\"line-height: normal;\">\n",
       "        <ul style=\"padding: 0px; margin: 0px; list-style: none; display: block;\">\n",
       "            \n",
       "                \n",
       "                    \n",
       "        <li class=\"pystac-row\">\n",
       "            <span class=\"pystac-k\">type</span>\n",
       "            <span class=\"pystac-v\">\"Feature\"</span>\n",
       "        </li>\n",
       "    \n",
       "                \n",
       "            \n",
       "                \n",
       "                    \n",
       "        <li class=\"pystac-row\">\n",
       "            <span class=\"pystac-k\">stac_version</span>\n",
       "            <span class=\"pystac-v\">\"1.1.0\"</span>\n",
       "        </li>\n",
       "    \n",
       "                \n",
       "            \n",
       "                \n",
       "                    <li><details>\n",
       "        <summary class=\"pystac-summary\"><span class=\"pystac-k\">stac_extensions</span><span class=\"pystac-l\">[] 1 items</span></summary>\n",
       "        \n",
       "            <ul style=\"margin: 0px; padding: 0px 0px 0px 1.75em; list-style: none; display: block;\">\n",
       "        \n",
       "            \n",
       "                \n",
       "        <li class=\"pystac-row\">\n",
       "            <span class=\"pystac-k\">0</span>\n",
       "            <span class=\"pystac-v\">\"https://stac-extensions.github.io/storage/v2.0.0/schema.json\"</span>\n",
       "        </li>\n",
       "    \n",
       "            \n",
       "        \n",
       "    </ul>\n",
       "        \n",
       "    </details></li>\n",
       "                \n",
       "            \n",
       "                \n",
       "                    \n",
       "        <li class=\"pystac-row\">\n",
       "            <span class=\"pystac-k\">id</span>\n",
       "            <span class=\"pystac-v\">\"NLDAS_FOR0010_D.A20010101.030.beta.nc\"</span>\n",
       "        </li>\n",
       "    \n",
       "                \n",
       "            \n",
       "                \n",
       "                    \n",
       "        <li><details>\n",
       "            <summary class=\"pystac-summary\"><span class=\"pystac-k\">geometry</span></summary>\n",
       "            <ul style=\"margin: 0px; padding: 0px 0px 0px 1.75em; list-style: none; display: block;\">\n",
       "        \n",
       "            \n",
       "                \n",
       "        <li class=\"pystac-row\">\n",
       "            <span class=\"pystac-k\">type</span>\n",
       "            <span class=\"pystac-v\">\"Polygon\"</span>\n",
       "        </li>\n",
       "    \n",
       "            \n",
       "        \n",
       "            \n",
       "                <li><details>\n",
       "        <summary class=\"pystac-summary\"><span class=\"pystac-k\">coordinates</span><span class=\"pystac-l\">[] 1 items</span></summary>\n",
       "        \n",
       "            <ul style=\"margin: 0px; padding: 0px 0px 0px 1.75em; list-style: none; display: block;\">\n",
       "        \n",
       "            \n",
       "                <li><details>\n",
       "        <summary class=\"pystac-summary\"><span class=\"pystac-k\">0</span><span class=\"pystac-l\">[] 5 items</span></summary>\n",
       "        \n",
       "            <ul style=\"margin: 0px; padding: 0px 0px 0px 1.75em; list-style: none; display: block;\">\n",
       "        \n",
       "            \n",
       "                <li><details>\n",
       "        <summary class=\"pystac-summary\"><span class=\"pystac-k\">0</span><span class=\"pystac-l\">[] 2 items</span></summary>\n",
       "        \n",
       "            <ul style=\"margin: 0px; padding: 0px 0px 0px 1.75em; list-style: none; display: block;\">\n",
       "        \n",
       "            \n",
       "                \n",
       "        <li class=\"pystac-row\">\n",
       "            <span class=\"pystac-k\">0</span>\n",
       "            <span class=\"pystac-v\">-52.0</span>\n",
       "        </li>\n",
       "    \n",
       "            \n",
       "        \n",
       "    </ul>\n",
       "        \n",
       "            <ul style=\"margin: 0px; padding: 0px 0px 0px 1.75em; list-style: none; display: block;\">\n",
       "        \n",
       "            \n",
       "                \n",
       "        <li class=\"pystac-row\">\n",
       "            <span class=\"pystac-k\">1</span>\n",
       "            <span class=\"pystac-v\">7.0</span>\n",
       "        </li>\n",
       "    \n",
       "            \n",
       "        \n",
       "    </ul>\n",
       "        \n",
       "    </details></li>\n",
       "            \n",
       "        \n",
       "    </ul>\n",
       "        \n",
       "            <ul style=\"margin: 0px; padding: 0px 0px 0px 1.75em; list-style: none; display: block;\">\n",
       "        \n",
       "            \n",
       "                <li><details>\n",
       "        <summary class=\"pystac-summary\"><span class=\"pystac-k\">1</span><span class=\"pystac-l\">[] 2 items</span></summary>\n",
       "        \n",
       "            <ul style=\"margin: 0px; padding: 0px 0px 0px 1.75em; list-style: none; display: block;\">\n",
       "        \n",
       "            \n",
       "                \n",
       "        <li class=\"pystac-row\">\n",
       "            <span class=\"pystac-k\">0</span>\n",
       "            <span class=\"pystac-v\">-52.0</span>\n",
       "        </li>\n",
       "    \n",
       "            \n",
       "        \n",
       "    </ul>\n",
       "        \n",
       "            <ul style=\"margin: 0px; padding: 0px 0px 0px 1.75em; list-style: none; display: block;\">\n",
       "        \n",
       "            \n",
       "                \n",
       "        <li class=\"pystac-row\">\n",
       "            <span class=\"pystac-k\">1</span>\n",
       "            <span class=\"pystac-v\">72.0</span>\n",
       "        </li>\n",
       "    \n",
       "            \n",
       "        \n",
       "    </ul>\n",
       "        \n",
       "    </details></li>\n",
       "            \n",
       "        \n",
       "    </ul>\n",
       "        \n",
       "            <ul style=\"margin: 0px; padding: 0px 0px 0px 1.75em; list-style: none; display: block;\">\n",
       "        \n",
       "            \n",
       "                <li><details>\n",
       "        <summary class=\"pystac-summary\"><span class=\"pystac-k\">2</span><span class=\"pystac-l\">[] 2 items</span></summary>\n",
       "        \n",
       "            <ul style=\"margin: 0px; padding: 0px 0px 0px 1.75em; list-style: none; display: block;\">\n",
       "        \n",
       "            \n",
       "                \n",
       "        <li class=\"pystac-row\">\n",
       "            <span class=\"pystac-k\">0</span>\n",
       "            <span class=\"pystac-v\">-169.0</span>\n",
       "        </li>\n",
       "    \n",
       "            \n",
       "        \n",
       "    </ul>\n",
       "        \n",
       "            <ul style=\"margin: 0px; padding: 0px 0px 0px 1.75em; list-style: none; display: block;\">\n",
       "        \n",
       "            \n",
       "                \n",
       "        <li class=\"pystac-row\">\n",
       "            <span class=\"pystac-k\">1</span>\n",
       "            <span class=\"pystac-v\">72.0</span>\n",
       "        </li>\n",
       "    \n",
       "            \n",
       "        \n",
       "    </ul>\n",
       "        \n",
       "    </details></li>\n",
       "            \n",
       "        \n",
       "    </ul>\n",
       "        \n",
       "            <ul style=\"margin: 0px; padding: 0px 0px 0px 1.75em; list-style: none; display: block;\">\n",
       "        \n",
       "            \n",
       "                <li><details>\n",
       "        <summary class=\"pystac-summary\"><span class=\"pystac-k\">3</span><span class=\"pystac-l\">[] 2 items</span></summary>\n",
       "        \n",
       "            <ul style=\"margin: 0px; padding: 0px 0px 0px 1.75em; list-style: none; display: block;\">\n",
       "        \n",
       "            \n",
       "                \n",
       "        <li class=\"pystac-row\">\n",
       "            <span class=\"pystac-k\">0</span>\n",
       "            <span class=\"pystac-v\">-169.0</span>\n",
       "        </li>\n",
       "    \n",
       "            \n",
       "        \n",
       "    </ul>\n",
       "        \n",
       "            <ul style=\"margin: 0px; padding: 0px 0px 0px 1.75em; list-style: none; display: block;\">\n",
       "        \n",
       "            \n",
       "                \n",
       "        <li class=\"pystac-row\">\n",
       "            <span class=\"pystac-k\">1</span>\n",
       "            <span class=\"pystac-v\">7.0</span>\n",
       "        </li>\n",
       "    \n",
       "            \n",
       "        \n",
       "    </ul>\n",
       "        \n",
       "    </details></li>\n",
       "            \n",
       "        \n",
       "    </ul>\n",
       "        \n",
       "            <ul style=\"margin: 0px; padding: 0px 0px 0px 1.75em; list-style: none; display: block;\">\n",
       "        \n",
       "            \n",
       "                <li><details>\n",
       "        <summary class=\"pystac-summary\"><span class=\"pystac-k\">4</span><span class=\"pystac-l\">[] 2 items</span></summary>\n",
       "        \n",
       "            <ul style=\"margin: 0px; padding: 0px 0px 0px 1.75em; list-style: none; display: block;\">\n",
       "        \n",
       "            \n",
       "                \n",
       "        <li class=\"pystac-row\">\n",
       "            <span class=\"pystac-k\">0</span>\n",
       "            <span class=\"pystac-v\">-52.0</span>\n",
       "        </li>\n",
       "    \n",
       "            \n",
       "        \n",
       "    </ul>\n",
       "        \n",
       "            <ul style=\"margin: 0px; padding: 0px 0px 0px 1.75em; list-style: none; display: block;\">\n",
       "        \n",
       "            \n",
       "                \n",
       "        <li class=\"pystac-row\">\n",
       "            <span class=\"pystac-k\">1</span>\n",
       "            <span class=\"pystac-v\">7.0</span>\n",
       "        </li>\n",
       "    \n",
       "            \n",
       "        \n",
       "    </ul>\n",
       "        \n",
       "    </details></li>\n",
       "            \n",
       "        \n",
       "    </ul>\n",
       "        \n",
       "    </details></li>\n",
       "            \n",
       "        \n",
       "    </ul>\n",
       "        \n",
       "    </details></li>\n",
       "            \n",
       "        \n",
       "    </ul>\n",
       "        </details></li>\n",
       "    \n",
       "                \n",
       "            \n",
       "                \n",
       "                    <li><details>\n",
       "        <summary class=\"pystac-summary\"><span class=\"pystac-k\">bbox</span><span class=\"pystac-l\">[] 4 items</span></summary>\n",
       "        \n",
       "            <ul style=\"margin: 0px; padding: 0px 0px 0px 1.75em; list-style: none; display: block;\">\n",
       "        \n",
       "            \n",
       "                \n",
       "        <li class=\"pystac-row\">\n",
       "            <span class=\"pystac-k\">0</span>\n",
       "            <span class=\"pystac-v\">-169.0</span>\n",
       "        </li>\n",
       "    \n",
       "            \n",
       "        \n",
       "    </ul>\n",
       "        \n",
       "            <ul style=\"margin: 0px; padding: 0px 0px 0px 1.75em; list-style: none; display: block;\">\n",
       "        \n",
       "            \n",
       "                \n",
       "        <li class=\"pystac-row\">\n",
       "            <span class=\"pystac-k\">1</span>\n",
       "            <span class=\"pystac-v\">7.0</span>\n",
       "        </li>\n",
       "    \n",
       "            \n",
       "        \n",
       "    </ul>\n",
       "        \n",
       "            <ul style=\"margin: 0px; padding: 0px 0px 0px 1.75em; list-style: none; display: block;\">\n",
       "        \n",
       "            \n",
       "                \n",
       "        <li class=\"pystac-row\">\n",
       "            <span class=\"pystac-k\">2</span>\n",
       "            <span class=\"pystac-v\">-52.0</span>\n",
       "        </li>\n",
       "    \n",
       "            \n",
       "        \n",
       "    </ul>\n",
       "        \n",
       "            <ul style=\"margin: 0px; padding: 0px 0px 0px 1.75em; list-style: none; display: block;\">\n",
       "        \n",
       "            \n",
       "                \n",
       "        <li class=\"pystac-row\">\n",
       "            <span class=\"pystac-k\">3</span>\n",
       "            <span class=\"pystac-v\">72.0</span>\n",
       "        </li>\n",
       "    \n",
       "            \n",
       "        \n",
       "    </ul>\n",
       "        \n",
       "    </details></li>\n",
       "                \n",
       "            \n",
       "                \n",
       "                    \n",
       "        <li><details>\n",
       "            <summary class=\"pystac-summary\"><span class=\"pystac-k\">properties</span></summary>\n",
       "            <ul style=\"margin: 0px; padding: 0px 0px 0px 1.75em; list-style: none; display: block;\">\n",
       "        \n",
       "            \n",
       "                \n",
       "        <li><details>\n",
       "            <summary class=\"pystac-summary\"><span class=\"pystac-k\">storage:schemes</span></summary>\n",
       "            <ul style=\"margin: 0px; padding: 0px 0px 0px 1.75em; list-style: none; display: block;\">\n",
       "        \n",
       "            \n",
       "                \n",
       "        <li><details>\n",
       "            <summary class=\"pystac-summary\"><span class=\"pystac-k\">aws-s3-nasa-waterinsight</span></summary>\n",
       "            <ul style=\"margin: 0px; padding: 0px 0px 0px 1.75em; list-style: none; display: block;\">\n",
       "        \n",
       "            \n",
       "                \n",
       "        <li class=\"pystac-row\">\n",
       "            <span class=\"pystac-k\">type</span>\n",
       "            <span class=\"pystac-v\">\"aws-s3\"</span>\n",
       "        </li>\n",
       "    \n",
       "            \n",
       "        \n",
       "            \n",
       "                \n",
       "        <li class=\"pystac-row\">\n",
       "            <span class=\"pystac-k\">platform</span>\n",
       "            <span class=\"pystac-v\">\"https://{bucket}.s3.{region}.amazonaws.com\"</span>\n",
       "        </li>\n",
       "    \n",
       "            \n",
       "        \n",
       "            \n",
       "                \n",
       "        <li class=\"pystac-row\">\n",
       "            <span class=\"pystac-k\">bucket</span>\n",
       "            <span class=\"pystac-v\">\"nasa-waterinsight\"</span>\n",
       "        </li>\n",
       "    \n",
       "            \n",
       "        \n",
       "            \n",
       "                \n",
       "        <li class=\"pystac-row\">\n",
       "            <span class=\"pystac-k\">region</span>\n",
       "            <span class=\"pystac-v\">\"us-west-2\"</span>\n",
       "        </li>\n",
       "    \n",
       "            \n",
       "        \n",
       "            \n",
       "                \n",
       "        <li class=\"pystac-row\">\n",
       "            <span class=\"pystac-k\">anonymous</span>\n",
       "            <span class=\"pystac-v\">True</span>\n",
       "        </li>\n",
       "    \n",
       "            \n",
       "        \n",
       "    </ul>\n",
       "        </details></li>\n",
       "    \n",
       "            \n",
       "        \n",
       "    </ul>\n",
       "        </details></li>\n",
       "    \n",
       "            \n",
       "        \n",
       "            \n",
       "                \n",
       "        <li class=\"pystac-row\">\n",
       "            <span class=\"pystac-k\">start_datetime</span>\n",
       "            <span class=\"pystac-v\">\"2001-01-01T00:00:00Z\"</span>\n",
       "        </li>\n",
       "    \n",
       "            \n",
       "        \n",
       "            \n",
       "                \n",
       "        <li class=\"pystac-row\">\n",
       "            <span class=\"pystac-k\">end_datetime</span>\n",
       "            <span class=\"pystac-v\">\"2001-01-01T23:59:59Z\"</span>\n",
       "        </li>\n",
       "    \n",
       "            \n",
       "        \n",
       "            \n",
       "                \n",
       "        <li class=\"pystac-row\">\n",
       "            <span class=\"pystac-k\">datetime</span>\n",
       "            <span class=\"pystac-v\">\"2001-01-01T00:00:00Z\"</span>\n",
       "        </li>\n",
       "    \n",
       "            \n",
       "        \n",
       "    </ul>\n",
       "        </details></li>\n",
       "    \n",
       "                \n",
       "            \n",
       "                \n",
       "                    <li><details>\n",
       "        <summary class=\"pystac-summary\"><span class=\"pystac-k\">links</span><span class=\"pystac-l\">[] 1 items</span></summary>\n",
       "        \n",
       "            <ul style=\"margin: 0px; padding: 0px 0px 0px 1.75em; list-style: none; display: block;\">\n",
       "        \n",
       "            \n",
       "                \n",
       "        <li><details>\n",
       "            <summary class=\"pystac-summary\"><span class=\"pystac-k\">0</span></summary>\n",
       "            <ul style=\"margin: 0px; padding: 0px 0px 0px 1.75em; list-style: none; display: block;\">\n",
       "        \n",
       "            \n",
       "                \n",
       "        <li class=\"pystac-row\">\n",
       "            <span class=\"pystac-k\">rel</span>\n",
       "            <span class=\"pystac-v\">\"collection\"</span>\n",
       "        </li>\n",
       "    \n",
       "            \n",
       "        \n",
       "            \n",
       "                \n",
       "        <li class=\"pystac-row\">\n",
       "            <span class=\"pystac-k\">href</span>\n",
       "            <span class=\"pystac-v\">\"/home/jsignell/NASA/dse-virtual-zarr-workshop/docs/examples/collection.json\"</span>\n",
       "        </li>\n",
       "    \n",
       "            \n",
       "        \n",
       "            \n",
       "                \n",
       "        <li class=\"pystac-row\">\n",
       "            <span class=\"pystac-k\">type</span>\n",
       "            <span class=\"pystac-v\">\"application/json\"</span>\n",
       "        </li>\n",
       "    \n",
       "            \n",
       "        \n",
       "            \n",
       "                \n",
       "        <li class=\"pystac-row\">\n",
       "            <span class=\"pystac-k\">title</span>\n",
       "            <span class=\"pystac-v\">\"NLDAS Forcing Data L4 Daily 0.01 x 0.01 degree V3.0 - *BETA*\"</span>\n",
       "        </li>\n",
       "    \n",
       "            \n",
       "        \n",
       "    </ul>\n",
       "        </details></li>\n",
       "    \n",
       "            \n",
       "        \n",
       "    </ul>\n",
       "        \n",
       "    </details></li>\n",
       "                \n",
       "            \n",
       "                \n",
       "                    \n",
       "        <li><details>\n",
       "            <summary class=\"pystac-summary\"><span class=\"pystac-k\">assets</span></summary>\n",
       "            <ul style=\"margin: 0px; padding: 0px 0px 0px 1.75em; list-style: none; display: block;\">\n",
       "        \n",
       "            \n",
       "                \n",
       "        <li><details>\n",
       "            <summary class=\"pystac-summary\"><span class=\"pystac-k\">data</span></summary>\n",
       "            <ul style=\"margin: 0px; padding: 0px 0px 0px 1.75em; list-style: none; display: block;\">\n",
       "        \n",
       "            \n",
       "                \n",
       "        <li class=\"pystac-row\">\n",
       "            <span class=\"pystac-k\">href</span>\n",
       "            <span class=\"pystac-v\">\"s3://nasa-waterinsight/NLDAS3/forcing/daily/200101/NLDAS_FOR0010_D.A20010101.030.beta.nc\"</span>\n",
       "        </li>\n",
       "    \n",
       "            \n",
       "        \n",
       "            \n",
       "                \n",
       "        <li class=\"pystac-row\">\n",
       "            <span class=\"pystac-k\">type</span>\n",
       "            <span class=\"pystac-v\">\"application/x-netcdf\"</span>\n",
       "        </li>\n",
       "    \n",
       "            \n",
       "        \n",
       "            \n",
       "                <li><details>\n",
       "        <summary class=\"pystac-summary\"><span class=\"pystac-k\">storage:refs</span><span class=\"pystac-l\">[] 1 items</span></summary>\n",
       "        \n",
       "            <ul style=\"margin: 0px; padding: 0px 0px 0px 1.75em; list-style: none; display: block;\">\n",
       "        \n",
       "            \n",
       "                \n",
       "        <li class=\"pystac-row\">\n",
       "            <span class=\"pystac-k\">0</span>\n",
       "            <span class=\"pystac-v\">\"aws-s3-nasa-waterinsight\"</span>\n",
       "        </li>\n",
       "    \n",
       "            \n",
       "        \n",
       "    </ul>\n",
       "        \n",
       "    </details></li>\n",
       "            \n",
       "        \n",
       "            \n",
       "                <li><details>\n",
       "        <summary class=\"pystac-summary\"><span class=\"pystac-k\">roles</span><span class=\"pystac-l\">[] 1 items</span></summary>\n",
       "        \n",
       "            <ul style=\"margin: 0px; padding: 0px 0px 0px 1.75em; list-style: none; display: block;\">\n",
       "        \n",
       "            \n",
       "                \n",
       "        <li class=\"pystac-row\">\n",
       "            <span class=\"pystac-k\">0</span>\n",
       "            <span class=\"pystac-v\">\"data\"</span>\n",
       "        </li>\n",
       "    \n",
       "            \n",
       "        \n",
       "    </ul>\n",
       "        \n",
       "    </details></li>\n",
       "            \n",
       "        \n",
       "    </ul>\n",
       "        </details></li>\n",
       "    \n",
       "            \n",
       "        \n",
       "    </ul>\n",
       "        </details></li>\n",
       "    \n",
       "                \n",
       "            \n",
       "                \n",
       "                    \n",
       "        <li class=\"pystac-row\">\n",
       "            <span class=\"pystac-k\">collection</span>\n",
       "            <span class=\"pystac-v\">\"nldas-3\"</span>\n",
       "        </li>\n",
       "    \n",
       "                \n",
       "            \n",
       "        </ul>\n",
       "    </div>\n",
       "</div>"
      ],
      "text/plain": [
       "<Item id=NLDAS_FOR0010_D.A20010101.030.beta.nc>"
      ]
     },
     "execution_count": 27,
     "metadata": {},
     "output_type": "execute_result"
    }
   ],
   "source": [
    "%%time\n",
    "\n",
    "item = create_item(legacy_files[0])\n",
    "item"
   ]
  },
  {
   "cell_type": "markdown",
   "id": "e1a9fcfd-6168-42b8-a07d-4779414c73d5",
   "metadata": {},
   "source": [
    "Validate the item:"
   ]
  },
  {
   "cell_type": "code",
   "execution_count": 28,
   "id": "6f50a053-e771-46cf-beff-1eca4551bfa9",
   "metadata": {
    "execution": {
     "iopub.execute_input": "2025-09-09T15:28:11.397179Z",
     "iopub.status.busy": "2025-09-09T15:28:11.396755Z",
     "iopub.status.idle": "2025-09-09T15:28:11.697849Z",
     "shell.execute_reply": "2025-09-09T15:28:11.697001Z",
     "shell.execute_reply.started": "2025-09-09T15:28:11.397147Z"
    }
   },
   "outputs": [
    {
     "data": {
      "text/plain": [
       "['https://schemas.stacspec.org/v1.1.0/item-spec/json-schema/item.json',\n",
       " 'https://stac-extensions.github.io/storage/v2.0.0/schema.json']"
      ]
     },
     "execution_count": 28,
     "metadata": {},
     "output_type": "execute_result"
    }
   ],
   "source": [
    "item.validate()"
   ]
  },
  {
   "cell_type": "markdown",
   "id": "e882e6de-b3c2-45ea-bb55-680f630dbf09",
   "metadata": {},
   "source": [
    "Now instead of just making one of these we'll want to make a whole bunch (8399 to be exact) so instead of storing each as its own json blob I'll save them as an item collection in stac-geoparquet."
   ]
  },
  {
   "cell_type": "code",
   "execution_count": 29,
   "id": "5f849122-8192-4c33-a730-0684b11c0cc2",
   "metadata": {
    "execution": {
     "iopub.execute_input": "2025-09-09T15:28:13.044936Z",
     "iopub.status.busy": "2025-09-09T15:28:13.044530Z",
     "iopub.status.idle": "2025-09-09T15:28:13.680534Z",
     "shell.execute_reply": "2025-09-09T15:28:13.679846Z",
     "shell.execute_reply.started": "2025-09-09T15:28:13.044904Z"
    }
   },
   "outputs": [
    {
     "name": "stdout",
     "output_type": "stream",
     "text": [
      "CPU times: user 631 ms, sys: 1.2 ms, total: 632 ms\n",
      "Wall time: 632 ms\n"
     ]
    }
   ],
   "source": [
    "%%time\n",
    "\n",
    "items = [\n",
    "    create_item(legacy_file).to_dict(include_self_link=False, transform_hrefs=False)\n",
    "    for legacy_file in legacy_files\n",
    "]"
   ]
  },
  {
   "cell_type": "code",
   "execution_count": 30,
   "id": "488564ca-6177-4395-bdd2-9306421f99a7",
   "metadata": {
    "execution": {
     "iopub.execute_input": "2025-09-09T15:28:13.734429Z",
     "iopub.status.busy": "2025-09-09T15:28:13.734026Z",
     "iopub.status.idle": "2025-09-09T15:28:14.075989Z",
     "shell.execute_reply": "2025-09-09T15:28:14.075575Z",
     "shell.execute_reply.started": "2025-09-09T15:28:13.734398Z"
    }
   },
   "outputs": [
    {
     "data": {
      "text/plain": [
       "{'e_tag': '2867927-63e5ff3d79810-53b1f', 'version': None}"
      ]
     },
     "execution_count": 30,
     "metadata": {},
     "output_type": "execute_result"
    }
   ],
   "source": [
    "await rustac.write(\"items.parquet\", items)"
   ]
  },
  {
   "cell_type": "markdown",
   "id": "c62943e8-4d2a-4b72-9688-b26c1904dd4c",
   "metadata": {},
   "source": [
    "Read it back in just to prove that we can:"
   ]
  },
  {
   "cell_type": "code",
   "execution_count": 31,
   "id": "83d7de6a-29e2-4a24-8760-b62d9cfda874",
   "metadata": {
    "execution": {
     "iopub.execute_input": "2025-09-09T15:28:16.916700Z",
     "iopub.status.busy": "2025-09-09T15:28:16.916269Z",
     "iopub.status.idle": "2025-09-09T15:28:17.187668Z",
     "shell.execute_reply": "2025-09-09T15:28:17.187322Z",
     "shell.execute_reply.started": "2025-09-09T15:28:16.916667Z"
    }
   },
   "outputs": [
    {
     "data": {
      "text/plain": [
       "{'type': 'Feature',\n",
       " 'stac_version': '1.1.0',\n",
       " 'stac_extensions': ['https://stac-extensions.github.io/storage/v2.0.0/schema.json'],\n",
       " 'id': 'NLDAS_FOR0010_D.A20010101.030.beta.nc',\n",
       " 'geometry': {'type': 'Polygon',\n",
       "  'coordinates': [[[-52.0, 7.0],\n",
       "    [-52.0, 72.0],\n",
       "    [-169.0, 72.0],\n",
       "    [-169.0, 7.0],\n",
       "    [-52.0, 7.0]]]},\n",
       " 'bbox': (-169.0, 7.0, -52.0, 72.0),\n",
       " 'properties': {'datetime': '2001-01-01T00:00:00Z',\n",
       "  'start_datetime': '2001-01-01T00:00:00Z',\n",
       "  'end_datetime': '2001-01-01T23:59:59Z',\n",
       "  'storage:schemes': {'aws-s3-nasa-waterinsight': {'type': 'aws-s3',\n",
       "    'platform': 'https://{bucket}.s3.{region}.amazonaws.com',\n",
       "    'bucket': 'nasa-waterinsight',\n",
       "    'region': 'us-west-2',\n",
       "    'anonymous': True}}},\n",
       " 'links': [{'href': '/home/jsignell/NASA/dse-virtual-zarr-workshop/docs/examples/collection.json',\n",
       "   'rel': 'collection',\n",
       "   'type': 'application/json',\n",
       "   'title': 'NLDAS Forcing Data L4 Daily 0.01 x 0.01 degree V3.0 - *BETA*'}],\n",
       " 'assets': {'data': {'href': 's3://nasa-waterinsight/NLDAS3/forcing/daily/200101/NLDAS_FOR0010_D.A20010101.030.beta.nc',\n",
       "   'type': 'application/x-netcdf',\n",
       "   'roles': ['data'],\n",
       "   'storage:refs': ['aws-s3-nasa-waterinsight']}},\n",
       " 'collection': 'nldas-3'}"
      ]
     },
     "execution_count": 31,
     "metadata": {},
     "output_type": "execute_result"
    }
   ],
   "source": [
    "item_collection = await rustac.read(\"items.parquet\")\n",
    "item_collection[\"features\"][0]"
   ]
  }
 ],
 "metadata": {
  "kernelspec": {
   "display_name": "Python 3 (ipykernel)",
   "language": "python",
   "name": "python3"
  },
  "language_info": {
   "codemirror_mode": {
    "name": "ipython",
    "version": 3
   },
   "file_extension": ".py",
   "mimetype": "text/x-python",
   "name": "python",
   "nbconvert_exporter": "python",
   "pygments_lexer": "ipython3",
   "version": "3.13.5"
  }
 },
 "nbformat": 4,
 "nbformat_minor": 5
}
