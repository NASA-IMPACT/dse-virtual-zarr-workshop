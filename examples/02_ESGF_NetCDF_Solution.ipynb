{
 "cells": [
  {
   "cell_type": "markdown",
   "id": "2b5c9579",
   "metadata": {},
   "source": [
    "## Hands-on - Virtualize NetCDF from ESGF\n",
    "\n",
    "This example uses data from the [Earth System Grid Federation THREDDS Data Server](https://esgf-data.ucar.edu/thredds/catalog/catalog.html).\n",
    "\n",
    "This is a quicker example for hands-on experience. For a full walkthrough, view previous example on the NASA-NEX-GDDP CMIP6 data.\n",
    "\n",
    "Thank you to Raphael Hagen for contributing this example!"
   ]
  },
  {
   "cell_type": "markdown",
   "id": "1f4c032c",
   "metadata": {},
   "source": [
    "### Step 1: Import necessary functions and classes"
   ]
  },
  {
   "cell_type": "code",
   "execution_count": null,
   "id": "c8ecb7bc",
   "metadata": {},
   "outputs": [],
   "source": [
    "from obstore.store import HTTPStore\n",
    "from virtualizarr import open_virtual_dataset\n",
    "from virtualizarr.parsers import HDFParser\n",
    "from virtualizarr.registry import ObjectStoreRegistry"
   ]
  },
  {
   "cell_type": "markdown",
   "id": "ffa5ddc8",
   "metadata": {},
   "source": [
    "### Step 2: Define data location"
   ]
  },
  {
   "cell_type": "code",
   "execution_count": null,
   "id": "24f5b227",
   "metadata": {},
   "outputs": [],
   "source": [
    "bucket = \"https://esgf-data.ucar.edu\"\n",
    "path = \"thredds/fileServer/esg_dataroot/CMIP6/CMIP/NCAR/CESM2/historical/r3i1p1f1/day/tas/gn/v20190308/tas_day_CESM2_historical_r3i1p1f1_gn_19200101-19291231.nc\""
   ]
  },
  {
   "cell_type": "markdown",
   "id": "43f912f0",
   "metadata": {},
   "source": [
    "### Step 3: Create an ObjectStore and an ObjectStoreRegistry"
   ]
  },
  {
   "cell_type": "code",
   "execution_count": null,
   "id": "4a276534",
   "metadata": {},
   "outputs": [],
   "source": [
    "store = HTTPStore.from_url(bucket)\n",
    "registry = ObjectStoreRegistry({bucket: store})"
   ]
  },
  {
   "cell_type": "markdown",
   "id": "de36aa4b",
   "metadata": {},
   "source": [
    "### Step 4: Create an instance of the HDFParser"
   ]
  },
  {
   "cell_type": "code",
   "execution_count": null,
   "id": "606d0762",
   "metadata": {},
   "outputs": [],
   "source": [
    "parser = HDFParser()"
   ]
  },
  {
   "cell_type": "markdown",
   "id": "c51b8607",
   "metadata": {},
   "source": [
    "### Step 5: Create a virtual dataset via open_virtual_dataset"
   ]
  },
  {
   "cell_type": "code",
   "execution_count": null,
   "id": "79f80e72",
   "metadata": {},
   "outputs": [],
   "source": [
    "vds = open_virtual_dataset(\n",
    "    url=f\"{bucket}/{path}\",\n",
    "    parser=parser,\n",
    "    registry=registry,\n",
    "    loadable_variables=[\"lat\", \"lon\", \"time\", \"time_bnds\", \"lat_bnds\", \"lon_bnds\"],\n",
    ")"
   ]
  },
  {
   "cell_type": "code",
   "execution_count": null,
   "id": "a9e91818",
   "metadata": {},
   "outputs": [],
   "source": [
    "vds"
   ]
  }
 ],
 "metadata": {
  "kernelspec": {
   "display_name": "default",
   "language": "python",
   "name": "python3"
  },
  "language_info": {
   "codemirror_mode": {
    "name": "ipython",
    "version": 3
   },
   "file_extension": ".py",
   "mimetype": "text/x-python",
   "name": "python",
   "nbconvert_exporter": "python",
   "pygments_lexer": "ipython3",
   "version": "3.13.5"
  }
 },
 "nbformat": 4,
 "nbformat_minor": 5
}
